{
 "cells": [
  {
   "cell_type": "markdown",
   "id": "9f57e11c",
   "metadata": {},
   "source": [
    "# Linear Regression"
   ]
  },
  {
   "cell_type": "code",
   "execution_count": 1,
   "id": "01f62253",
   "metadata": {},
   "outputs": [],
   "source": [
    "# Snowpark\n",
    "from snowflake.snowpark.session import Session\n",
    "from snowflake.snowpark import functions as F\n",
    "from snowflake.snowpark.types import *\n",
    "from snowflake.snowpark.version import VERSION\n",
    "from snowflake.snowpark.functions import pandas_udf\n",
    "\n",
    "# Pandas & json\n",
    "import pandas as pd\n",
    "import numpy as np\n",
    "import json\n",
    "\n",
    "# Plotting\n",
    "import matplotlib.pyplot as plt\n",
    "import seaborn as sns\n",
    "\n",
    "# Models\n",
    "from sklearn.model_selection import train_test_split\n",
    "from sklearn.linear_model import LinearRegression\n",
    "from sklearn import metrics\n",
    "\n",
    "%matplotlib inline"
   ]
  },
  {
   "cell_type": "markdown",
   "id": "38042ae0",
   "metadata": {},
   "source": [
    "### Set context"
   ]
  },
  {
   "cell_type": "code",
   "execution_count": 2,
   "id": "5e64c81a",
   "metadata": {},
   "outputs": [],
   "source": [
    "# Read credentials\n",
    "with open('creds.json') as f:\n",
    "    connection_parameters = json.load(f)    \n",
    "session = Session.builder.configs(connection_parameters).create()"
   ]
  },
  {
   "cell_type": "code",
   "execution_count": 3,
   "id": "5295c5c4",
   "metadata": {},
   "outputs": [
    {
     "name": "stdout",
     "output_type": "stream",
     "text": [
      "Database                    : \"RETAIL_TRANSACTIONS\"\n",
      "Schema                      : \"PUBLIC\"\n",
      "Warehouse                   : \"COMPUTE_WH\"\n",
      "Role                        : \"ACCOUNTADMIN\"\n",
      "Snowpark for Python version : 0.11.0\n"
     ]
    }
   ],
   "source": [
    "snowpark_version = VERSION\n",
    "print('Database                    : {}'.format(session.get_current_database()))\n",
    "print('Schema                      : {}'.format(session.get_current_schema()))\n",
    "print('Warehouse                   : {}'.format(session.get_current_warehouse()))\n",
    "print('Role                        : {}'.format(session.get_current_role()))\n",
    "print('Snowpark for Python version : {}.{}.{}'.format(snowpark_version[0],snowpark_version[1],snowpark_version[2]))"
   ]
  },
  {
   "cell_type": "markdown",
   "id": "abdc3c61",
   "metadata": {},
   "source": [
    "### Data Loading"
   ]
  },
  {
   "cell_type": "code",
   "execution_count": 4,
   "id": "7beff24f",
   "metadata": {},
   "outputs": [
    {
     "data": {
      "text/html": [
       "<div>\n",
       "<style scoped>\n",
       "    .dataframe tbody tr th:only-of-type {\n",
       "        vertical-align: middle;\n",
       "    }\n",
       "\n",
       "    .dataframe tbody tr th {\n",
       "        vertical-align: top;\n",
       "    }\n",
       "\n",
       "    .dataframe thead th {\n",
       "        text-align: right;\n",
       "    }\n",
       "</style>\n",
       "<table border=\"1\" class=\"dataframe\">\n",
       "  <thead>\n",
       "    <tr style=\"text-align: right;\">\n",
       "      <th></th>\n",
       "      <th>EmailID</th>\n",
       "      <th>Customer Address</th>\n",
       "      <th>Avg. Session Length</th>\n",
       "      <th>Session Length on App</th>\n",
       "      <th>Session Length on Website</th>\n",
       "      <th>Duration of Subscription in Years</th>\n",
       "      <th>Yearly Expenditure</th>\n",
       "    </tr>\n",
       "  </thead>\n",
       "  <tbody>\n",
       "    <tr>\n",
       "      <th>0</th>\n",
       "      <td>mstephenson@fernandez.com</td>\n",
       "      <td>835 Frank Tunnel\\nWrightmouth, MI 82180-9605</td>\n",
       "      <td>34.497268</td>\n",
       "      <td>12.655651</td>\n",
       "      <td>39.577668</td>\n",
       "      <td>4.082621</td>\n",
       "      <td>587.951054</td>\n",
       "    </tr>\n",
       "    <tr>\n",
       "      <th>1</th>\n",
       "      <td>hduke@hotmail.com</td>\n",
       "      <td>4547 Archer Common\\nDiazchester, CA 06566-8576</td>\n",
       "      <td>31.926272</td>\n",
       "      <td>11.109461</td>\n",
       "      <td>37.268959</td>\n",
       "      <td>2.664034</td>\n",
       "      <td>392.204933</td>\n",
       "    </tr>\n",
       "    <tr>\n",
       "      <th>2</th>\n",
       "      <td>pallen@yahoo.com</td>\n",
       "      <td>24645 Valerie Unions Suite 582\\nCobbborough, D...</td>\n",
       "      <td>33.000915</td>\n",
       "      <td>11.330278</td>\n",
       "      <td>37.110597</td>\n",
       "      <td>4.104543</td>\n",
       "      <td>487.547505</td>\n",
       "    </tr>\n",
       "    <tr>\n",
       "      <th>3</th>\n",
       "      <td>riverarebecca@gmail.com</td>\n",
       "      <td>1414 David Throughway\\nPort Jason, OH 22070-1220</td>\n",
       "      <td>34.305557</td>\n",
       "      <td>13.717514</td>\n",
       "      <td>36.721283</td>\n",
       "      <td>3.120179</td>\n",
       "      <td>581.852344</td>\n",
       "    </tr>\n",
       "    <tr>\n",
       "      <th>4</th>\n",
       "      <td>mstephens@davidson-herman.com</td>\n",
       "      <td>14023 Rodriguez Passage\\nPort Jacobville, PR 3...</td>\n",
       "      <td>33.330673</td>\n",
       "      <td>12.795189</td>\n",
       "      <td>37.536653</td>\n",
       "      <td>4.446308</td>\n",
       "      <td>599.406092</td>\n",
       "    </tr>\n",
       "  </tbody>\n",
       "</table>\n",
       "</div>"
      ],
      "text/plain": [
       "                         EmailID  \\\n",
       "0      mstephenson@fernandez.com   \n",
       "1              hduke@hotmail.com   \n",
       "2               pallen@yahoo.com   \n",
       "3        riverarebecca@gmail.com   \n",
       "4  mstephens@davidson-herman.com   \n",
       "\n",
       "                                    Customer Address  Avg. Session Length  \\\n",
       "0       835 Frank Tunnel\\nWrightmouth, MI 82180-9605            34.497268   \n",
       "1     4547 Archer Common\\nDiazchester, CA 06566-8576            31.926272   \n",
       "2  24645 Valerie Unions Suite 582\\nCobbborough, D...            33.000915   \n",
       "3   1414 David Throughway\\nPort Jason, OH 22070-1220            34.305557   \n",
       "4  14023 Rodriguez Passage\\nPort Jacobville, PR 3...            33.330673   \n",
       "\n",
       "   Session Length on App  Session Length on Website  \\\n",
       "0              12.655651                  39.577668   \n",
       "1              11.109461                  37.268959   \n",
       "2              11.330278                  37.110597   \n",
       "3              13.717514                  36.721283   \n",
       "4              12.795189                  37.536653   \n",
       "\n",
       "   Duration of Subscription in Years  Yearly Expenditure  \n",
       "0                           4.082621          587.951054  \n",
       "1                           2.664034          392.204933  \n",
       "2                           4.104543          487.547505  \n",
       "3                           3.120179          581.852344  \n",
       "4                           4.446308          599.406092  "
      ]
     },
     "execution_count": 4,
     "metadata": {},
     "output_type": "execute_result"
    }
   ],
   "source": [
    "customers = pd.read_csv(\"data.csv\")\n",
    "customers.head()"
   ]
  },
  {
   "cell_type": "code",
   "execution_count": 7,
   "id": "61ad76a4",
   "metadata": {},
   "outputs": [],
   "source": [
    "# Create a Snowpark DF from the pandas DF\n",
    "snowdf = session.createDataFrame(customers)"
   ]
  },
  {
   "cell_type": "code",
   "execution_count": 8,
   "id": "ba630389",
   "metadata": {},
   "outputs": [
    {
     "name": "stdout",
     "output_type": "stream",
     "text": [
      "-------------------------------------------------------------------------------------------------------------------------------------------------------------------------------------------------------\n",
      "|\"EmailID\"                  |\"Customer Address\"          |\"Avg. Session Length\"  |\"Session Length on App\"  |\"Session Length on Website\"  |\"Duration of Subscription in Years\"  |\"Yearly Expenditure\"  |\n",
      "-------------------------------------------------------------------------------------------------------------------------------------------------------------------------------------------------------\n",
      "|mstephenson@fernandez.com  |835 Frank Tunnel            |34.49726773            |12.65565115              |39.57766802                  |4.082620633                          |587.951054            |\n",
      "|                           |Wrightmouth, MI 82180-9605  |                       |                         |                             |                                     |                      |\n",
      "|hduke@hotmail.com          |4547 Archer Common          |31.92627203            |11.10946073              |37.26895887                  |2.664034182                          |392.2049334           |\n",
      "|                           |Diazchester, CA 06566-8576  |                       |                         |                             |                                     |                      |\n",
      "-------------------------------------------------------------------------------------------------------------------------------------------------------------------------------------------------------\n",
      "\n"
     ]
    }
   ],
   "source": [
    "snowdf.show(2)"
   ]
  },
  {
   "cell_type": "code",
   "execution_count": 9,
   "id": "3a149d64",
   "metadata": {},
   "outputs": [
    {
     "name": "stdout",
     "output_type": "stream",
     "text": [
      "-----------------------------------------------------------------------------------------------------------------------------------------------------------------------------------------------------------\n",
      "|\"EmailID\"                  |\"Customer Address\"              |\"Avg. Session Length\"  |\"Session Length on App\"  |\"Session Length on Website\"  |\"Duration of Subscription in Years\"  |\"Yearly Expenditure\"  |\n",
      "-----------------------------------------------------------------------------------------------------------------------------------------------------------------------------------------------------------\n",
      "|mstephenson@fernandez.com  |835 Frank Tunnel                |34.49726773            |12.65565115              |39.57766802                  |4.082620633                          |587.951054            |\n",
      "|                           |Wrightmouth, MI 82180-9605      |                       |                         |                             |                                     |                      |\n",
      "|hduke@hotmail.com          |4547 Archer Common              |31.92627203            |11.10946073              |37.26895887                  |2.664034182                          |392.2049334           |\n",
      "|                           |Diazchester, CA 06566-8576      |                       |                         |                             |                                     |                      |\n",
      "|pallen@yahoo.com           |24645 Valerie Unions Suite 582  |33.00091476            |11.33027806              |37.11059744                  |4.104543202                          |487.5475049           |\n",
      "|                           |Cobbborough, DC 99414-7564      |                       |                         |                             |                                     |                      |\n",
      "-----------------------------------------------------------------------------------------------------------------------------------------------------------------------------------------------------------\n",
      "\n"
     ]
    }
   ],
   "source": [
    "# Loading customer data from Snowpark DF to a Snowflake internal table\n",
    "snowdf.write.mode(\"overwrite\").saveAsTable(\"customers_new\") \n",
    "session.table(\"CUSTOMERS_NEW\").limit(3).show(5)"
   ]
  },
  {
   "cell_type": "code",
   "execution_count": 10,
   "id": "c3f7fea1",
   "metadata": {},
   "outputs": [
    {
     "name": "stdout",
     "output_type": "stream",
     "text": [
      "'custdf' local dataframe created. Number of records: 500 \n"
     ]
    }
   ],
   "source": [
    "# Create a pandas data frame from the Snowflake table\n",
    "custdf = session.table('CUSTOMERS_NEW').toPandas() \n",
    "\n",
    "print(f\"'custdf' local dataframe created. Number of records: {len(custdf)} \")"
   ]
  },
  {
   "cell_type": "markdown",
   "id": "90dbcfa4",
   "metadata": {},
   "source": [
    "### Model Training & Testing"
   ]
  },
  {
   "cell_type": "code",
   "execution_count": 11,
   "id": "ef0ae769",
   "metadata": {},
   "outputs": [
    {
     "data": {
      "text/plain": [
       "<matplotlib.axes._subplots.AxesSubplot at 0x22ed39f5070>"
      ]
     },
     "execution_count": 11,
     "metadata": {},
     "output_type": "execute_result"
    },
    {
     "data": {
      "image/png": "[encoded data removed]",
      "text/plain": [
       "<Figure size 1000x800 with 2 Axes>"
      ]
     },
     "metadata": {},
     "output_type": "display_data"
    }
   ],
   "source": [
    "# Start by understanding the correlation matrix for the new data frame\n",
    "f, ax = plt.subplots(figsize=(10, 8))\n",
    "ax.set_title('Correlation Heatmap for Retail Transaction Customer Dataset')\n",
    "sns.heatmap(custdf.corr(), vmin=-1, vmax=1, annot=True, cmap='YlGnBu')"
   ]
  },
  {
   "cell_type": "code",
   "execution_count": 12,
   "id": "3c0c19c9",
   "metadata": {},
   "outputs": [],
   "source": [
    "# Define X and Y for modeling\n",
    "X = custdf[['Avg. Session Length', 'Session Length on App', 'Session Length on Website', 'Duration of Subscription in Years']]\n",
    "Y = custdf['Yearly Expenditure']"
   ]
  },
  {
   "cell_type": "code",
   "execution_count": 13,
   "id": "5645b077",
   "metadata": {},
   "outputs": [],
   "source": [
    "# Split into training & Testing datasets\n",
    "X_train, X_test, y_train, y_test = train_test_split(X, Y,\n",
    "                                 test_size=0.3, random_state=101)"
   ]
  },
  {
   "cell_type": "markdown",
   "id": "63ed02bd",
   "metadata": {},
   "source": [
    "#### Linear Regression - Predict Yearly Spend"
   ]
  },
  {
   "cell_type": "code",
   "execution_count": 14,
   "id": "4f08591f",
   "metadata": {},
   "outputs": [
    {
     "data": {
      "text/html": [
       "<style>#sk-container-id-1 {color: black;background-color: white;}#sk-container-id-1 pre{padding: 0;}#sk-container-id-1 div.sk-toggleable {background-color: white;}#sk-container-id-1 label.sk-toggleable__label {cursor: pointer;display: block;width: 100%;margin-bottom: 0;padding: 0.3em;box-sizing: border-box;text-align: center;}#sk-container-id-1 label.sk-toggleable__label-arrow:before {content: \"▸\";float: left;margin-right: 0.25em;color: #696969;}#sk-container-id-1 label.sk-toggleable__label-arrow:hover:before {color: black;}#sk-container-id-1 div.sk-estimator:hover label.sk-toggleable__label-arrow:before {color: black;}#sk-container-id-1 div.sk-toggleable__content {max-height: 0;max-width: 0;overflow: hidden;text-align: left;background-color: #f0f8ff;}#sk-container-id-1 div.sk-toggleable__content pre {margin: 0.2em;color: black;border-radius: 0.25em;background-color: #f0f8ff;}#sk-container-id-1 input.sk-toggleable__control:checked~div.sk-toggleable__content {max-height: 200px;max-width: 100%;overflow: auto;}#sk-container-id-1 input.sk-toggleable__control:checked~label.sk-toggleable__label-arrow:before {content: \"▾\";}#sk-container-id-1 div.sk-estimator input.sk-toggleable__control:checked~label.sk-toggleable__label {background-color: #d4ebff;}#sk-container-id-1 div.sk-label input.sk-toggleable__control:checked~label.sk-toggleable__label {background-color: #d4ebff;}#sk-container-id-1 input.sk-hidden--visually {border: 0;clip: rect(1px 1px 1px 1px);clip: rect(1px, 1px, 1px, 1px);height: 1px;margin: -1px;overflow: hidden;padding: 0;position: absolute;width: 1px;}#sk-container-id-1 div.sk-estimator {font-family: monospace;background-color: #f0f8ff;border: 1px dotted black;border-radius: 0.25em;box-sizing: border-box;margin-bottom: 0.5em;}#sk-container-id-1 div.sk-estimator:hover {background-color: #d4ebff;}#sk-container-id-1 div.sk-parallel-item::after {content: \"\";width: 100%;border-bottom: 1px solid gray;flex-grow: 1;}#sk-container-id-1 div.sk-label:hover label.sk-toggleable__label {background-color: #d4ebff;}#sk-container-id-1 div.sk-serial::before {content: \"\";position: absolute;border-left: 1px solid gray;box-sizing: border-box;top: 0;bottom: 0;left: 50%;z-index: 0;}#sk-container-id-1 div.sk-serial {display: flex;flex-direction: column;align-items: center;background-color: white;padding-right: 0.2em;padding-left: 0.2em;position: relative;}#sk-container-id-1 div.sk-item {position: relative;z-index: 1;}#sk-container-id-1 div.sk-parallel {display: flex;align-items: stretch;justify-content: center;background-color: white;position: relative;}#sk-container-id-1 div.sk-item::before, #sk-container-id-1 div.sk-parallel-item::before {content: \"\";position: absolute;border-left: 1px solid gray;box-sizing: border-box;top: 0;bottom: 0;left: 50%;z-index: -1;}#sk-container-id-1 div.sk-parallel-item {display: flex;flex-direction: column;z-index: 1;position: relative;background-color: white;}#sk-container-id-1 div.sk-parallel-item:first-child::after {align-self: flex-end;width: 50%;}#sk-container-id-1 div.sk-parallel-item:last-child::after {align-self: flex-start;width: 50%;}#sk-container-id-1 div.sk-parallel-item:only-child::after {width: 0;}#sk-container-id-1 div.sk-dashed-wrapped {border: 1px dashed gray;margin: 0 0.4em 0.5em 0.4em;box-sizing: border-box;padding-bottom: 0.4em;background-color: white;}#sk-container-id-1 div.sk-label label {font-family: monospace;font-weight: bold;display: inline-block;line-height: 1.2em;}#sk-container-id-1 div.sk-label-container {text-align: center;}#sk-container-id-1 div.sk-container {/* jupyter's `normalize.less` sets `[hidden] { display: none; }` but bootstrap.min.css set `[hidden] { display: none !important; }` so we also need the `!important` here to be able to override the default hidden behavior on the sphinx rendered scikit-learn.org. See: https://github.com/scikit-learn/scikit-learn/issues/21755 */display: inline-block !important;position: relative;}#sk-container-id-1 div.sk-text-repr-fallback {display: none;}</style><div id=\"sk-container-id-1\" class=\"sk-top-container\"><div class=\"sk-text-repr-fallback\"><pre>LinearRegression()</pre><b>In a Jupyter environment, please rerun this cell to show the HTML representation or trust the notebook. <br />On GitHub, the HTML representation is unable to render, please try loading this page with nbviewer.org.</b></div><div class=\"sk-container\" hidden><div class=\"sk-item\"><div class=\"sk-estimator sk-toggleable\"><input class=\"sk-toggleable__control sk-hidden--visually\" id=\"sk-estimator-id-1\" type=\"checkbox\" checked><label for=\"sk-estimator-id-1\" class=\"sk-toggleable__label sk-toggleable__label-arrow\">LinearRegression</label><div class=\"sk-toggleable__content\"><pre>LinearRegression()</pre></div></div></div></div></div>"
      ],
      "text/plain": [
       "LinearRegression()"
      ]
     },
     "execution_count": 14,
     "metadata": {},
     "output_type": "execute_result"
    }
   ],
   "source": [
    "# Create an instance of Linear Regression and Fit the training datasets\n",
    "lm = LinearRegression()\n",
    "lm.fit(X_train,y_train)"
   ]
  },
  {
   "cell_type": "code",
   "execution_count": 15,
   "id": "25025810",
   "metadata": {},
   "outputs": [],
   "source": [
    "# Creating a User Defined Function within Snowflake to do the scoring there\n",
    "def predict_pandas_udf(df: pd.DataFrame) -> pd.Series:\n",
    "    return pd.Series(lm.predict(df))  "
   ]
  },
  {
   "cell_type": "code",
   "execution_count": 17,
   "id": "e4acc2df",
   "metadata": {},
   "outputs": [],
   "source": [
    "# Creating UDF with above function\n",
    "linear_model_vec = pandas_udf(func=predict_pandas_udf,\n",
    "                                return_type = FloatType(),\n",
    "                                input_types = [FloatType(), FloatType(), FloatType(), FloatType()],\n",
    "                                session = session,\n",
    "                                packages = (\"pandas\", \"scikit-learn\"), max_batch_size = 200)"
   ]
  },
  {
   "cell_type": "code",
   "execution_count": 18,
   "id": "6132216f",
   "metadata": {},
   "outputs": [
    {
     "name": "stderr",
     "output_type": "stream",
     "text": [
      "Passing arguments to a UDF with a list or tuple is deprecated. We still respect this invocation but please consider passing variable-length arguments without a list or tuple.\n"
     ]
    },
    {
     "name": "stdout",
     "output_type": "stream",
     "text": [
      "-------------------------------------------------------------------------------------------------------------------------------------------------------------\n",
      "|\"Avg. Session Length\"  |\"Session Length on App\"  |\"Session Length on Website\"  |\"Duration of Subscription in Years\"  |\"PREDICTED_SPEND\"   |\"ACTUAL_SPEND\"  |\n",
      "-------------------------------------------------------------------------------------------------------------------------------------------------------------\n",
      "|34.49726773            |12.65565115              |39.57766802                  |4.082620633                          |594.4583823824203   |587.951054      |\n",
      "|31.92627203            |11.10946073              |37.26895887                  |2.664034182                          |380.62290951875025  |392.2049334     |\n",
      "|33.00091476            |11.33027806              |37.11059744                  |4.104543202                          |505.30810731557835  |487.5475049     |\n",
      "|34.30555663            |13.71751367              |36.72128268                  |3.120178783                          |570.933436280357    |581.852344      |\n",
      "|33.33067252            |12.79518855              |37.5366533                   |4.446308318                          |591.4310341499222   |599.406092      |\n",
      "-------------------------------------------------------------------------------------------------------------------------------------------------------------\n",
      "\n"
     ]
    }
   ],
   "source": [
    "# Calling the UDF to do the scoring (pushing down to Snowflake)\n",
    "output = session.table('CUSTOMERS_NEW').select(*list(X.columns),\n",
    "                    linear_model_vec(list(X.columns)).alias('PREDICTED_SPEND'), \n",
    "                    (F.col('Yearly Expenditure')).alias('ACTUAL_SPEND')\n",
    "                    )\n",
    "\n",
    "output.show(5)"
   ]
  },
  {
   "cell_type": "code",
   "execution_count": 19,
   "id": "99332d94",
   "metadata": {},
   "outputs": [],
   "source": [
    "# Save the predicted output as a table on Snowflake\n",
    "### used later in Streamlit app\n",
    "output.write.mode(\"overwrite\").saveAsTable(\"PREDICTED_CUSTOMER_SPEND\") \n",
    "\n",
    "# Also get a local dataframe to review the results\n",
    "output=output.toPandas()"
   ]
  },
  {
   "cell_type": "markdown",
   "id": "29ff0cea",
   "metadata": {},
   "source": [
    "*To start with, define a function for regression metrics*\n",
    "\n",
    "1. R² measures how much variability in dependent variable can be \"explained by the model.\n",
    "2. While R² is a relative measure of how well the model fits dependent variables, Mean Square Error is an absolute measure of the goodness for the fit.\n",
    "3. Mean Absolute Error(MAE) is similar to MSE, however, unlike MSE, MAE takes the sum of the ABSOLUTE value of error.\n",
    "\n",
    "*[Regression Merics Reference](https://towardsdatascience.com/regression-an-explanation-of-regression-metrics-and-what-can-go-wrong-a39a9793d914)*"
   ]
  },
  {
   "cell_type": "code",
   "execution_count": 21,
   "id": "70abc4a5",
   "metadata": {},
   "outputs": [
    {
     "name": "stdout",
     "output_type": "stream",
     "text": [
      "\n",
      "--- Coefficient of Determination (R²) ---\n",
      "R²: 0.98\n",
      "\n",
      "--- Mean Squared Error (MSE & RMSE) ---\n",
      "MSE: 98.74\n",
      "RMSE: 9.94\n",
      "\n",
      "--- Mean Absolute Error (MAE) ---\n",
      "MAE: 7.9\n"
     ]
    }
   ],
   "source": [
    "#1 & 2 Coefficient of Determination (R² & Adjusted R²)\n",
    "print(\"\\n--- Coefficient of Determination (R²) ---\")\n",
    "r2 = metrics.r2_score(y_pred=y2, y_true=y1)\n",
    "print(f\"R²: {round(r2, 2)}\")\n",
    "\n",
    "#3 & 4. MSE and RMSE\n",
    "print(\"\\n--- Mean Squared Error (MSE & RMSE) ---\")\n",
    "\n",
    "mse = metrics.mean_squared_error(y_pred=y2, y_true=y1, squared=True)\n",
    "rmse = metrics.mean_squared_error(y_pred=y2, y_true=y1, squared=False)\n",
    "\n",
    "print(f\"MSE: {round(mse, 2)}\")\n",
    "print(f\"RMSE: {round(rmse, 2)}\")\n",
    "\n",
    "#5. MAE\n",
    "print(\"\\n--- Mean Absolute Error (MAE) ---\")\n",
    "mae = metrics.mean_absolute_error(y_pred=y2, y_true=y1)\n",
    "print(f\"MAE: {round(mae, 2)}\")"
   ]
  },
  {
   "cell_type": "code",
   "execution_count": 23,
   "id": "b1909564",
   "metadata": {},
   "outputs": [
    {
     "data": {
      "text/html": [
       "<div>\n",
       "<style scoped>\n",
       "    .dataframe tbody tr th:only-of-type {\n",
       "        vertical-align: middle;\n",
       "    }\n",
       "\n",
       "    .dataframe tbody tr th {\n",
       "        vertical-align: top;\n",
       "    }\n",
       "\n",
       "    .dataframe thead th {\n",
       "        text-align: right;\n",
       "    }\n",
       "</style>\n",
       "<table border=\"1\" class=\"dataframe\">\n",
       "  <thead>\n",
       "    <tr style=\"text-align: right;\">\n",
       "      <th></th>\n",
       "      <th>Coefficient</th>\n",
       "    </tr>\n",
       "  </thead>\n",
       "  <tbody>\n",
       "    <tr>\n",
       "      <th>Avg. Session Length</th>\n",
       "      <td>25.98</td>\n",
       "    </tr>\n",
       "    <tr>\n",
       "      <th>Session Length on App</th>\n",
       "      <td>38.59</td>\n",
       "    </tr>\n",
       "    <tr>\n",
       "      <th>Session Length on Website</th>\n",
       "      <td>0.19</td>\n",
       "    </tr>\n",
       "    <tr>\n",
       "      <th>Duration of Subscription in Years</th>\n",
       "      <td>61.28</td>\n",
       "    </tr>\n",
       "  </tbody>\n",
       "</table>\n",
       "</div>"
      ],
      "text/plain": [
       "                                   Coefficient\n",
       "Avg. Session Length                      25.98\n",
       "Session Length on App                    38.59\n",
       "Session Length on Website                 0.19\n",
       "Duration of Subscription in Years        61.28"
      ]
     },
     "execution_count": 23,
     "metadata": {},
     "output_type": "execute_result"
    }
   ],
   "source": [
    "# Get coefficients from the fitted model\n",
    "coeff_df = pd.DataFrame(lm.coef_, X.columns, columns=['Coefficient']).round(2)\n",
    "coeff_df"
   ]
  }
 ],
 "metadata": {
  "kernelspec": {
   "display_name": "Python 3 (ipykernel)",
   "language": "python",
   "name": "python3"
  },
  "language_info": {
   "codemirror_mode": {
    "name": "ipython",
    "version": 3
   },
   "file_extension": ".py",
   "mimetype": "text/x-python",
   "name": "python",
   "nbconvert_exporter": "python",
   "pygments_lexer": "ipython3",
   "version": "3.8.13"
  },
  "vscode": {
   "interpreter": {
    "hash": "8f3939231f85b66825af0f25c3ebfcf7e3d00e5843c3b078ed5a90a7c9ac532f"
   }
  }
 },
 "nbformat": 4,
 "nbformat_minor": 5
}
