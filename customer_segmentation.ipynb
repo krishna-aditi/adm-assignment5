{
 "cells": [
  {
   "cell_type": "code",
   "execution_count": 1,
   "id": "6b3d85ad",
   "metadata": {},
   "outputs": [],
   "source": [
    "import pandas as pd"
   ]
  },
  {
   "cell_type": "code",
   "execution_count": 2,
   "id": "1fdb40d6",
   "metadata": {},
   "outputs": [
    {
     "data": {
      "text/html": [
       "<div>\n",
       "<style scoped>\n",
       "    .dataframe tbody tr th:only-of-type {\n",
       "        vertical-align: middle;\n",
       "    }\n",
       "\n",
       "    .dataframe tbody tr th {\n",
       "        vertical-align: top;\n",
       "    }\n",
       "\n",
       "    .dataframe thead th {\n",
       "        text-align: right;\n",
       "    }\n",
       "</style>\n",
       "<table border=\"1\" class=\"dataframe\">\n",
       "  <thead>\n",
       "    <tr style=\"text-align: right;\">\n",
       "      <th></th>\n",
       "      <th>EmailID</th>\n",
       "      <th>Customer Address</th>\n",
       "      <th>Avg. Session Length</th>\n",
       "      <th>Session Length on App</th>\n",
       "      <th>Session Length on Website</th>\n",
       "      <th>Duration of Subscription in Years</th>\n",
       "      <th>Yearly Expenditure</th>\n",
       "    </tr>\n",
       "  </thead>\n",
       "  <tbody>\n",
       "    <tr>\n",
       "      <th>0</th>\n",
       "      <td>mstephenson@fernandez.com</td>\n",
       "      <td>835 Frank Tunnel\\nWrightmouth, MI 82180-9605</td>\n",
       "      <td>34.497268</td>\n",
       "      <td>12.655651</td>\n",
       "      <td>39.577668</td>\n",
       "      <td>4.082621</td>\n",
       "      <td>587.951054</td>\n",
       "    </tr>\n",
       "    <tr>\n",
       "      <th>1</th>\n",
       "      <td>hduke@hotmail.com</td>\n",
       "      <td>4547 Archer Common\\nDiazchester, CA 06566-8576</td>\n",
       "      <td>31.926272</td>\n",
       "      <td>11.109461</td>\n",
       "      <td>37.268959</td>\n",
       "      <td>2.664034</td>\n",
       "      <td>392.204933</td>\n",
       "    </tr>\n",
       "    <tr>\n",
       "      <th>2</th>\n",
       "      <td>pallen@yahoo.com</td>\n",
       "      <td>24645 Valerie Unions Suite 582\\nCobbborough, D...</td>\n",
       "      <td>33.000915</td>\n",
       "      <td>11.330278</td>\n",
       "      <td>37.110597</td>\n",
       "      <td>4.104543</td>\n",
       "      <td>487.547505</td>\n",
       "    </tr>\n",
       "    <tr>\n",
       "      <th>3</th>\n",
       "      <td>riverarebecca@gmail.com</td>\n",
       "      <td>1414 David Throughway\\nPort Jason, OH 22070-1220</td>\n",
       "      <td>34.305557</td>\n",
       "      <td>13.717514</td>\n",
       "      <td>36.721283</td>\n",
       "      <td>3.120179</td>\n",
       "      <td>581.852344</td>\n",
       "    </tr>\n",
       "    <tr>\n",
       "      <th>4</th>\n",
       "      <td>mstephens@davidson-herman.com</td>\n",
       "      <td>14023 Rodriguez Passage\\nPort Jacobville, PR 3...</td>\n",
       "      <td>33.330673</td>\n",
       "      <td>12.795189</td>\n",
       "      <td>37.536653</td>\n",
       "      <td>4.446308</td>\n",
       "      <td>599.406092</td>\n",
       "    </tr>\n",
       "  </tbody>\n",
       "</table>\n",
       "</div>"
      ],
      "text/plain": [
       "                         EmailID  \\\n",
       "0      mstephenson@fernandez.com   \n",
       "1              hduke@hotmail.com   \n",
       "2               pallen@yahoo.com   \n",
       "3        riverarebecca@gmail.com   \n",
       "4  mstephens@davidson-herman.com   \n",
       "\n",
       "                                    Customer Address  Avg. Session Length  \\\n",
       "0       835 Frank Tunnel\\nWrightmouth, MI 82180-9605            34.497268   \n",
       "1     4547 Archer Common\\nDiazchester, CA 06566-8576            31.926272   \n",
       "2  24645 Valerie Unions Suite 582\\nCobbborough, D...            33.000915   \n",
       "3   1414 David Throughway\\nPort Jason, OH 22070-1220            34.305557   \n",
       "4  14023 Rodriguez Passage\\nPort Jacobville, PR 3...            33.330673   \n",
       "\n",
       "   Session Length on App  Session Length on Website  \\\n",
       "0              12.655651                  39.577668   \n",
       "1              11.109461                  37.268959   \n",
       "2              11.330278                  37.110597   \n",
       "3              13.717514                  36.721283   \n",
       "4              12.795189                  37.536653   \n",
       "\n",
       "   Duration of Subscription in Years  Yearly Expenditure  \n",
       "0                           4.082621          587.951054  \n",
       "1                           2.664034          392.204933  \n",
       "2                           4.104543          487.547505  \n",
       "3                           3.120179          581.852344  \n",
       "4                           4.446308          599.406092  "
      ]
     },
     "execution_count": 2,
     "metadata": {},
     "output_type": "execute_result"
    }
   ],
   "source": [
    "df = pd.read_csv('data.csv')\n",
    "df.head()"
   ]
  },
  {
   "cell_type": "code",
   "execution_count": 60,
   "id": "c2db0616",
   "metadata": {},
   "outputs": [
    {
     "data": {
      "text/plain": [
       "500"
      ]
     },
     "execution_count": 60,
     "metadata": {},
     "output_type": "execute_result"
    }
   ],
   "source": [
    "len(df)"
   ]
  },
  {
   "cell_type": "code",
   "execution_count": 27,
   "id": "85103c95",
   "metadata": {},
   "outputs": [],
   "source": [
    "# Example of getting neighbors for an instance\n",
    "from math import sqrt\n",
    " \n",
    "# calculate the Euclidean distance between two vectors\n",
    "def euclidean_distance(row1, row2):\n",
    "    distance = 0.0\n",
    "    for i in range(len(row1)-1):\n",
    "        distance += (row1[i] - row2[i])**2\n",
    "    return sqrt(distance)\n",
    " \n",
    "# Locate the most similar neighbors\n",
    "def get_neighbors(train_full, train, test_row, num_neighbors):\n",
    "    distances = list()\n",
    "    df.drop\n",
    "    for full_row, train_row in zip(train_full, train):\n",
    "        dist = euclidean_distance(test_row, train_row[:-1])\n",
    "        distances.append((full_row, dist))\n",
    "        distances.sort(key=lambda tup: tup[1])\n",
    "    neighbors = list()\n",
    "    for i in range(num_neighbors):\n",
    "        neighbors.append(distances[i][0])\n",
    "    return neighbors"
   ]
  },
  {
   "cell_type": "code",
   "execution_count": 28,
   "id": "1eb26f24",
   "metadata": {},
   "outputs": [],
   "source": [
    "df_np_full = df.to_numpy()"
   ]
  },
  {
   "cell_type": "code",
   "execution_count": 29,
   "id": "7ba641ae",
   "metadata": {},
   "outputs": [],
   "source": [
    "df_np = df_np_full[:,2:]"
   ]
  },
  {
   "cell_type": "code",
   "execution_count": 31,
   "id": "4e755889",
   "metadata": {},
   "outputs": [],
   "source": [
    "array =  get_neighbors(df_np_full,df_np, df_np[0][:-1], 4)"
   ]
  },
  {
   "cell_type": "code",
   "execution_count": 38,
   "id": "ba8ca7d1",
   "metadata": {},
   "outputs": [
    {
     "data": {
      "text/html": [
       "<div>\n",
       "<style scoped>\n",
       "    .dataframe tbody tr th:only-of-type {\n",
       "        vertical-align: middle;\n",
       "    }\n",
       "\n",
       "    .dataframe tbody tr th {\n",
       "        vertical-align: top;\n",
       "    }\n",
       "\n",
       "    .dataframe thead th {\n",
       "        text-align: right;\n",
       "    }\n",
       "</style>\n",
       "<table border=\"1\" class=\"dataframe\">\n",
       "  <thead>\n",
       "    <tr style=\"text-align: right;\">\n",
       "      <th></th>\n",
       "      <th>EmailID</th>\n",
       "      <th>Customer Address</th>\n",
       "      <th>Avg. Session Length</th>\n",
       "      <th>Session Length on App</th>\n",
       "      <th>Session Length on Website</th>\n",
       "      <th>Duration of Subscription in Years</th>\n",
       "      <th>Yearly Expenditure</th>\n",
       "    </tr>\n",
       "  </thead>\n",
       "  <tbody>\n",
       "    <tr>\n",
       "      <th>0</th>\n",
       "      <td>mstephenson@fernandez.com</td>\n",
       "      <td>835 Frank Tunnel\\nWrightmouth, MI 82180-9605</td>\n",
       "      <td>34.497268</td>\n",
       "      <td>12.655651</td>\n",
       "      <td>39.577668</td>\n",
       "      <td>4.082621</td>\n",
       "      <td>587.951054</td>\n",
       "    </tr>\n",
       "    <tr>\n",
       "      <th>1</th>\n",
       "      <td>brianwilson@yahoo.com</td>\n",
       "      <td>448 Stewart Divide\\nNew Ashleyfort, FM 84050</td>\n",
       "      <td>34.555768</td>\n",
       "      <td>12.170525</td>\n",
       "      <td>39.131097</td>\n",
       "      <td>3.663105</td>\n",
       "      <td>549.860590</td>\n",
       "    </tr>\n",
       "    <tr>\n",
       "      <th>2</th>\n",
       "      <td>matthewgraves@mills-shaffer.com</td>\n",
       "      <td>66636 Jason Parkway\\nKellyside, NV 67033</td>\n",
       "      <td>33.908565</td>\n",
       "      <td>12.914847</td>\n",
       "      <td>39.068864</td>\n",
       "      <td>1.482360</td>\n",
       "      <td>432.472061</td>\n",
       "    </tr>\n",
       "    <tr>\n",
       "      <th>3</th>\n",
       "      <td>randall85@williams.com</td>\n",
       "      <td>5086 Morales Islands Apt. 099\\nNew Patricia, I...</td>\n",
       "      <td>33.625307</td>\n",
       "      <td>12.988221</td>\n",
       "      <td>39.672591</td>\n",
       "      <td>3.969418</td>\n",
       "      <td>581.798798</td>\n",
       "    </tr>\n",
       "  </tbody>\n",
       "</table>\n",
       "</div>"
      ],
      "text/plain": [
       "                           EmailID  \\\n",
       "0        mstephenson@fernandez.com   \n",
       "1            brianwilson@yahoo.com   \n",
       "2  matthewgraves@mills-shaffer.com   \n",
       "3           randall85@williams.com   \n",
       "\n",
       "                                    Customer Address  Avg. Session Length  \\\n",
       "0       835 Frank Tunnel\\nWrightmouth, MI 82180-9605            34.497268   \n",
       "1       448 Stewart Divide\\nNew Ashleyfort, FM 84050            34.555768   \n",
       "2           66636 Jason Parkway\\nKellyside, NV 67033            33.908565   \n",
       "3  5086 Morales Islands Apt. 099\\nNew Patricia, I...            33.625307   \n",
       "\n",
       "   Session Length on App  Session Length on Website  \\\n",
       "0              12.655651                  39.577668   \n",
       "1              12.170525                  39.131097   \n",
       "2              12.914847                  39.068864   \n",
       "3              12.988221                  39.672591   \n",
       "\n",
       "   Duration of Subscription in Years  Yearly Expenditure  \n",
       "0                           4.082621          587.951054  \n",
       "1                           3.663105          549.860590  \n",
       "2                           1.482360          432.472061  \n",
       "3                           3.969418          581.798798  "
      ]
     },
     "execution_count": 38,
     "metadata": {},
     "output_type": "execute_result"
    }
   ],
   "source": [
    "pd.DataFrame(array, columns = df.columns)"
   ]
  },
  {
   "cell_type": "code",
   "execution_count": 46,
   "id": "2644cd78",
   "metadata": {},
   "outputs": [],
   "source": [
    "import numpy as np \n",
    "import pandas as pd\n",
    "import matplotlib.pyplot as plt\n",
    "import seaborn as sns\n",
    "from sklearn.cluster import KMeans\n",
    "import scipy.cluster.hierarchy as sch\n",
    "import plotly.figure_factory as ff\n",
    "import plotly.express as px\n",
    "import plotly.graph_objects as go\n",
    "\n",
    "%matplotlib inline"
   ]
  },
  {
   "cell_type": "code",
   "execution_count": 45,
   "id": "db0b2419",
   "metadata": {},
   "outputs": [
    {
     "name": "stdout",
     "output_type": "stream",
     "text": [
      "Requirement already satisfied: plotly==5.11.0 in c:\\users\\krish\\anaconda3\\envs\\snowflake\\lib\\site-packages (5.11.0)\n",
      "Requirement already satisfied: tenacity>=6.2.0 in c:\\users\\krish\\anaconda3\\envs\\snowflake\\lib\\site-packages (from plotly==5.11.0) (8.1.0)\n"
     ]
    }
   ],
   "source": [
    "!pip install plotly==5.11.0"
   ]
  },
  {
   "cell_type": "code",
   "execution_count": 50,
   "id": "d857eaa8",
   "metadata": {},
   "outputs": [
    {
     "name": "stderr",
     "output_type": "stream",
     "text": [
      "C:\\Users\\krish\\anaconda3\\envs\\snowflake\\lib\\site-packages\\sklearn\\cluster\\_kmeans.py:1334: UserWarning:\n",
      "\n",
      "KMeans is known to have a memory leak on Windows with MKL, when there are less chunks than available threads. You can avoid it by setting the environment variable OMP_NUM_THREADS=2.\n",
      "\n",
      "C:\\Users\\krish\\anaconda3\\envs\\snowflake\\lib\\site-packages\\sklearn\\cluster\\_kmeans.py:1334: UserWarning:\n",
      "\n",
      "KMeans is known to have a memory leak on Windows with MKL, when there are less chunks than available threads. You can avoid it by setting the environment variable OMP_NUM_THREADS=2.\n",
      "\n",
      "C:\\Users\\krish\\anaconda3\\envs\\snowflake\\lib\\site-packages\\sklearn\\cluster\\_kmeans.py:1334: UserWarning:\n",
      "\n",
      "KMeans is known to have a memory leak on Windows with MKL, when there are less chunks than available threads. You can avoid it by setting the environment variable OMP_NUM_THREADS=2.\n",
      "\n",
      "C:\\Users\\krish\\anaconda3\\envs\\snowflake\\lib\\site-packages\\sklearn\\cluster\\_kmeans.py:1334: UserWarning:\n",
      "\n",
      "KMeans is known to have a memory leak on Windows with MKL, when there are less chunks than available threads. You can avoid it by setting the environment variable OMP_NUM_THREADS=2.\n",
      "\n",
      "C:\\Users\\krish\\anaconda3\\envs\\snowflake\\lib\\site-packages\\sklearn\\cluster\\_kmeans.py:1334: UserWarning:\n",
      "\n",
      "KMeans is known to have a memory leak on Windows with MKL, when there are less chunks than available threads. You can avoid it by setting the environment variable OMP_NUM_THREADS=2.\n",
      "\n",
      "C:\\Users\\krish\\anaconda3\\envs\\snowflake\\lib\\site-packages\\sklearn\\cluster\\_kmeans.py:1334: UserWarning:\n",
      "\n",
      "KMeans is known to have a memory leak on Windows with MKL, when there are less chunks than available threads. You can avoid it by setting the environment variable OMP_NUM_THREADS=2.\n",
      "\n",
      "C:\\Users\\krish\\anaconda3\\envs\\snowflake\\lib\\site-packages\\sklearn\\cluster\\_kmeans.py:1334: UserWarning:\n",
      "\n",
      "KMeans is known to have a memory leak on Windows with MKL, when there are less chunks than available threads. You can avoid it by setting the environment variable OMP_NUM_THREADS=2.\n",
      "\n",
      "C:\\Users\\krish\\anaconda3\\envs\\snowflake\\lib\\site-packages\\sklearn\\cluster\\_kmeans.py:1334: UserWarning:\n",
      "\n",
      "KMeans is known to have a memory leak on Windows with MKL, when there are less chunks than available threads. You can avoid it by setting the environment variable OMP_NUM_THREADS=2.\n",
      "\n",
      "C:\\Users\\krish\\anaconda3\\envs\\snowflake\\lib\\site-packages\\sklearn\\cluster\\_kmeans.py:1334: UserWarning:\n",
      "\n",
      "KMeans is known to have a memory leak on Windows with MKL, when there are less chunks than available threads. You can avoid it by setting the environment variable OMP_NUM_THREADS=2.\n",
      "\n"
     ]
    },
    {
     "data": {
      "application/vnd.plotly.v1+json": {
       "config": {
        "plotlyServerURL": "https://plot.ly"
       },
       "data": [
        {
         "type": "scatter",
         "x": [
          1,
          2,
          3,
          4,
          5,
          6,
          7,
          8,
          9,
          10
         ],
         "y": [
          3141119.103173681,
          1231367.44869788,
          661525.913565231,
          427019.34599733853,
          274837.30644223106,
          195965.72948732806,
          142035.39298869763,
          114397.44112170274,
          87121.16870212159
         ]
        }
       ],
       "layout": {
        "template": {
         "data": {
          "bar": [
           {
            "error_x": {
             "color": "#2a3f5f"
            },
            "error_y": {
             "color": "#2a3f5f"
            },
            "marker": {
             "line": {
              "color": "#E5ECF6",
              "width": 0.5
             },
             "pattern": {
              "fillmode": "overlay",
              "size": 10,
              "solidity": 0.2
             }
            },
            "type": "bar"
           }
          ],
          "barpolar": [
           {
            "marker": {
             "line": {
              "color": "#E5ECF6",
              "width": 0.5
             },
             "pattern": {
              "fillmode": "overlay",
              "size": 10,
              "solidity": 0.2
             }
            },
            "type": "barpolar"
           }
          ],
          "carpet": [
           {
            "aaxis": {
             "endlinecolor": "#2a3f5f",
             "gridcolor": "white",
             "linecolor": "white",
             "minorgridcolor": "white",
             "startlinecolor": "#2a3f5f"
            },
            "baxis": {
             "endlinecolor": "#2a3f5f",
             "gridcolor": "white",
             "linecolor": "white",
             "minorgridcolor": "white",
             "startlinecolor": "#2a3f5f"
            },
            "type": "carpet"
           }
          ],
          "choropleth": [
           {
            "colorbar": {
             "outlinewidth": 0,
             "ticks": ""
            },
            "type": "choropleth"
           }
          ],
          "contour": [
           {
            "colorbar": {
             "outlinewidth": 0,
             "ticks": ""
            },
            "colorscale": [
             [
              0,
              "#0d0887"
             ],
             [
              0.1111111111111111,
              "#46039f"
             ],
             [
              0.2222222222222222,
              "#7201a8"
             ],
             [
              0.3333333333333333,
              "#9c179e"
             ],
             [
              0.4444444444444444,
              "#bd3786"
             ],
             [
              0.5555555555555556,
              "#d8576b"
             ],
             [
              0.6666666666666666,
              "#ed7953"
             ],
             [
              0.7777777777777778,
              "#fb9f3a"
             ],
             [
              0.8888888888888888,
              "#fdca26"
             ],
             [
              1,
              "#f0f921"
             ]
            ],
            "type": "contour"
           }
          ],
          "contourcarpet": [
           {
            "colorbar": {
             "outlinewidth": 0,
             "ticks": ""
            },
            "type": "contourcarpet"
           }
          ],
          "heatmap": [
           {
            "colorbar": {
             "outlinewidth": 0,
             "ticks": ""
            },
            "colorscale": [
             [
              0,
              "#0d0887"
             ],
             [
              0.1111111111111111,
              "#46039f"
             ],
             [
              0.2222222222222222,
              "#7201a8"
             ],
             [
              0.3333333333333333,
              "#9c179e"
             ],
             [
              0.4444444444444444,
              "#bd3786"
             ],
             [
              0.5555555555555556,
              "#d8576b"
             ],
             [
              0.6666666666666666,
              "#ed7953"
             ],
             [
              0.7777777777777778,
              "#fb9f3a"
             ],
             [
              0.8888888888888888,
              "#fdca26"
             ],
             [
              1,
              "#f0f921"
             ]
            ],
            "type": "heatmap"
           }
          ],
          "heatmapgl": [
           {
            "colorbar": {
             "outlinewidth": 0,
             "ticks": ""
            },
            "colorscale": [
             [
              0,
              "#0d0887"
             ],
             [
              0.1111111111111111,
              "#46039f"
             ],
             [
              0.2222222222222222,
              "#7201a8"
             ],
             [
              0.3333333333333333,
              "#9c179e"
             ],
             [
              0.4444444444444444,
              "#bd3786"
             ],
             [
              0.5555555555555556,
              "#d8576b"
             ],
             [
              0.6666666666666666,
              "#ed7953"
             ],
             [
              0.7777777777777778,
              "#fb9f3a"
             ],
             [
              0.8888888888888888,
              "#fdca26"
             ],
             [
              1,
              "#f0f921"
             ]
            ],
            "type": "heatmapgl"
           }
          ],
          "histogram": [
           {
            "marker": {
             "pattern": {
              "fillmode": "overlay",
              "size": 10,
              "solidity": 0.2
             }
            },
            "type": "histogram"
           }
          ],
          "histogram2d": [
           {
            "colorbar": {
             "outlinewidth": 0,
             "ticks": ""
            },
            "colorscale": [
             [
              0,
              "#0d0887"
             ],
             [
              0.1111111111111111,
              "#46039f"
             ],
             [
              0.2222222222222222,
              "#7201a8"
             ],
             [
              0.3333333333333333,
              "#9c179e"
             ],
             [
              0.4444444444444444,
              "#bd3786"
             ],
             [
              0.5555555555555556,
              "#d8576b"
             ],
             [
              0.6666666666666666,
              "#ed7953"
             ],
             [
              0.7777777777777778,
              "#fb9f3a"
             ],
             [
              0.8888888888888888,
              "#fdca26"
             ],
             [
              1,
              "#f0f921"
             ]
            ],
            "type": "histogram2d"
           }
          ],
          "histogram2dcontour": [
           {
            "colorbar": {
             "outlinewidth": 0,
             "ticks": ""
            },
            "colorscale": [
             [
              0,
              "#0d0887"
             ],
             [
              0.1111111111111111,
              "#46039f"
             ],
             [
              0.2222222222222222,
              "#7201a8"
             ],
             [
              0.3333333333333333,
              "#9c179e"
             ],
             [
              0.4444444444444444,
              "#bd3786"
             ],
             [
              0.5555555555555556,
              "#d8576b"
             ],
             [
              0.6666666666666666,
              "#ed7953"
             ],
             [
              0.7777777777777778,
              "#fb9f3a"
             ],
             [
              0.8888888888888888,
              "#fdca26"
             ],
             [
              1,
              "#f0f921"
             ]
            ],
            "type": "histogram2dcontour"
           }
          ],
          "mesh3d": [
           {
            "colorbar": {
             "outlinewidth": 0,
             "ticks": ""
            },
            "type": "mesh3d"
           }
          ],
          "parcoords": [
           {
            "line": {
             "colorbar": {
              "outlinewidth": 0,
              "ticks": ""
             }
            },
            "type": "parcoords"
           }
          ],
          "pie": [
           {
            "automargin": true,
            "type": "pie"
           }
          ],
          "scatter": [
           {
            "fillpattern": {
             "fillmode": "overlay",
             "size": 10,
             "solidity": 0.2
            },
            "type": "scatter"
           }
          ],
          "scatter3d": [
           {
            "line": {
             "colorbar": {
              "outlinewidth": 0,
              "ticks": ""
             }
            },
            "marker": {
             "colorbar": {
              "outlinewidth": 0,
              "ticks": ""
             }
            },
            "type": "scatter3d"
           }
          ],
          "scattercarpet": [
           {
            "marker": {
             "colorbar": {
              "outlinewidth": 0,
              "ticks": ""
             }
            },
            "type": "scattercarpet"
           }
          ],
          "scattergeo": [
           {
            "marker": {
             "colorbar": {
              "outlinewidth": 0,
              "ticks": ""
             }
            },
            "type": "scattergeo"
           }
          ],
          "scattergl": [
           {
            "marker": {
             "colorbar": {
              "outlinewidth": 0,
              "ticks": ""
             }
            },
            "type": "scattergl"
           }
          ],
          "scattermapbox": [
           {
            "marker": {
             "colorbar": {
              "outlinewidth": 0,
              "ticks": ""
             }
            },
            "type": "scattermapbox"
           }
          ],
          "scatterpolar": [
           {
            "marker": {
             "colorbar": {
              "outlinewidth": 0,
              "ticks": ""
             }
            },
            "type": "scatterpolar"
           }
          ],
          "scatterpolargl": [
           {
            "marker": {
             "colorbar": {
              "outlinewidth": 0,
              "ticks": ""
             }
            },
            "type": "scatterpolargl"
           }
          ],
          "scatterternary": [
           {
            "marker": {
             "colorbar": {
              "outlinewidth": 0,
              "ticks": ""
             }
            },
            "type": "scatterternary"
           }
          ],
          "surface": [
           {
            "colorbar": {
             "outlinewidth": 0,
             "ticks": ""
            },
            "colorscale": [
             [
              0,
              "#0d0887"
             ],
             [
              0.1111111111111111,
              "#46039f"
             ],
             [
              0.2222222222222222,
              "#7201a8"
             ],
             [
              0.3333333333333333,
              "#9c179e"
             ],
             [
              0.4444444444444444,
              "#bd3786"
             ],
             [
              0.5555555555555556,
              "#d8576b"
             ],
             [
              0.6666666666666666,
              "#ed7953"
             ],
             [
              0.7777777777777778,
              "#fb9f3a"
             ],
             [
              0.8888888888888888,
              "#fdca26"
             ],
             [
              1,
              "#f0f921"
             ]
            ],
            "type": "surface"
           }
          ],
          "table": [
           {
            "cells": {
             "fill": {
              "color": "#EBF0F8"
             },
             "line": {
              "color": "white"
             }
            },
            "header": {
             "fill": {
              "color": "#C8D4E3"
             },
             "line": {
              "color": "white"
             }
            },
            "type": "table"
           }
          ]
         },
         "layout": {
          "annotationdefaults": {
           "arrowcolor": "#2a3f5f",
           "arrowhead": 0,
           "arrowwidth": 1
          },
          "autotypenumbers": "strict",
          "coloraxis": {
           "colorbar": {
            "outlinewidth": 0,
            "ticks": ""
           }
          },
          "colorscale": {
           "diverging": [
            [
             0,
             "#8e0152"
            ],
            [
             0.1,
             "#c51b7d"
            ],
            [
             0.2,
             "#de77ae"
            ],
            [
             0.3,
             "#f1b6da"
            ],
            [
             0.4,
             "#fde0ef"
            ],
            [
             0.5,
             "#f7f7f7"
            ],
            [
             0.6,
             "#e6f5d0"
            ],
            [
             0.7,
             "#b8e186"
            ],
            [
             0.8,
             "#7fbc41"
            ],
            [
             0.9,
             "#4d9221"
            ],
            [
             1,
             "#276419"
            ]
           ],
           "sequential": [
            [
             0,
             "#0d0887"
            ],
            [
             0.1111111111111111,
             "#46039f"
            ],
            [
             0.2222222222222222,
             "#7201a8"
            ],
            [
             0.3333333333333333,
             "#9c179e"
            ],
            [
             0.4444444444444444,
             "#bd3786"
            ],
            [
             0.5555555555555556,
             "#d8576b"
            ],
            [
             0.6666666666666666,
             "#ed7953"
            ],
            [
             0.7777777777777778,
             "#fb9f3a"
            ],
            [
             0.8888888888888888,
             "#fdca26"
            ],
            [
             1,
             "#f0f921"
            ]
           ],
           "sequentialminus": [
            [
             0,
             "#0d0887"
            ],
            [
             0.1111111111111111,
             "#46039f"
            ],
            [
             0.2222222222222222,
             "#7201a8"
            ],
            [
             0.3333333333333333,
             "#9c179e"
            ],
            [
             0.4444444444444444,
             "#bd3786"
            ],
            [
             0.5555555555555556,
             "#d8576b"
            ],
            [
             0.6666666666666666,
             "#ed7953"
            ],
            [
             0.7777777777777778,
             "#fb9f3a"
            ],
            [
             0.8888888888888888,
             "#fdca26"
            ],
            [
             1,
             "#f0f921"
            ]
           ]
          },
          "colorway": [
           "#636efa",
           "#EF553B",
           "#00cc96",
           "#ab63fa",
           "#FFA15A",
           "#19d3f3",
           "#FF6692",
           "#B6E880",
           "#FF97FF",
           "#FECB52"
          ],
          "font": {
           "color": "#2a3f5f"
          },
          "geo": {
           "bgcolor": "white",
           "lakecolor": "white",
           "landcolor": "#E5ECF6",
           "showlakes": true,
           "showland": true,
           "subunitcolor": "white"
          },
          "hoverlabel": {
           "align": "left"
          },
          "hovermode": "closest",
          "mapbox": {
           "style": "light"
          },
          "paper_bgcolor": "white",
          "plot_bgcolor": "#E5ECF6",
          "polar": {
           "angularaxis": {
            "gridcolor": "white",
            "linecolor": "white",
            "ticks": ""
           },
           "bgcolor": "#E5ECF6",
           "radialaxis": {
            "gridcolor": "white",
            "linecolor": "white",
            "ticks": ""
           }
          },
          "scene": {
           "xaxis": {
            "backgroundcolor": "#E5ECF6",
            "gridcolor": "white",
            "gridwidth": 2,
            "linecolor": "white",
            "showbackground": true,
            "ticks": "",
            "zerolinecolor": "white"
           },
           "yaxis": {
            "backgroundcolor": "#E5ECF6",
            "gridcolor": "white",
            "gridwidth": 2,
            "linecolor": "white",
            "showbackground": true,
            "ticks": "",
            "zerolinecolor": "white"
           },
           "zaxis": {
            "backgroundcolor": "#E5ECF6",
            "gridcolor": "white",
            "gridwidth": 2,
            "linecolor": "white",
            "showbackground": true,
            "ticks": "",
            "zerolinecolor": "white"
           }
          },
          "shapedefaults": {
           "line": {
            "color": "#2a3f5f"
           }
          },
          "ternary": {
           "aaxis": {
            "gridcolor": "white",
            "linecolor": "white",
            "ticks": ""
           },
           "baxis": {
            "gridcolor": "white",
            "linecolor": "white",
            "ticks": ""
           },
           "bgcolor": "#E5ECF6",
           "caxis": {
            "gridcolor": "white",
            "linecolor": "white",
            "ticks": ""
           }
          },
          "title": {
           "x": 0.05
          },
          "xaxis": {
           "automargin": true,
           "gridcolor": "white",
           "linecolor": "white",
           "ticks": "",
           "title": {
            "standoff": 15
           },
           "zerolinecolor": "white",
           "zerolinewidth": 2
          },
          "yaxis": {
           "automargin": true,
           "gridcolor": "white",
           "linecolor": "white",
           "ticks": "",
           "title": {
            "standoff": 15
           },
           "zerolinecolor": "white",
           "zerolinewidth": 2
          }
         }
        },
        "title": {
         "text": "WCSS vs. Cluster number"
        },
        "xaxis": {
         "title": {
          "text": "Clusters"
         }
        },
        "yaxis": {
         "title": {
          "text": "WCSS"
         }
        }
       }
      },
      "text/html": [
       "<div>                            <div id=\"99d6bf84-c9c6-404c-a23b-c0a34d6583d3\" class=\"plotly-graph-div\" style=\"height:525px; width:100%;\"></div>            <script type=\"text/javascript\">                require([\"plotly\"], function(Plotly) {                    window.PLOTLYENV=window.PLOTLYENV || {};                                    if (document.getElementById(\"99d6bf84-c9c6-404c-a23b-c0a34d6583d3\")) {                    Plotly.newPlot(                        \"99d6bf84-c9c6-404c-a23b-c0a34d6583d3\",                        [{\"x\":[1,2,3,4,5,6,7,8,9,10],\"y\":[3141119.103173681,1231367.44869788,661525.913565231,427019.34599733853,274837.30644223106,195965.72948732806,142035.39298869763,114397.44112170274,87121.16870212159],\"type\":\"scatter\"}],                        {\"template\":{\"data\":{\"histogram2dcontour\":[{\"type\":\"histogram2dcontour\",\"colorbar\":{\"outlinewidth\":0,\"ticks\":\"\"},\"colorscale\":[[0.0,\"#0d0887\"],[0.1111111111111111,\"#46039f\"],[0.2222222222222222,\"#7201a8\"],[0.3333333333333333,\"#9c179e\"],[0.4444444444444444,\"#bd3786\"],[0.5555555555555556,\"#d8576b\"],[0.6666666666666666,\"#ed7953\"],[0.7777777777777778,\"#fb9f3a\"],[0.8888888888888888,\"#fdca26\"],[1.0,\"#f0f921\"]]}],\"choropleth\":[{\"type\":\"choropleth\",\"colorbar\":{\"outlinewidth\":0,\"ticks\":\"\"}}],\"histogram2d\":[{\"type\":\"histogram2d\",\"colorbar\":{\"outlinewidth\":0,\"ticks\":\"\"},\"colorscale\":[[0.0,\"#0d0887\"],[0.1111111111111111,\"#46039f\"],[0.2222222222222222,\"#7201a8\"],[0.3333333333333333,\"#9c179e\"],[0.4444444444444444,\"#bd3786\"],[0.5555555555555556,\"#d8576b\"],[0.6666666666666666,\"#ed7953\"],[0.7777777777777778,\"#fb9f3a\"],[0.8888888888888888,\"#fdca26\"],[1.0,\"#f0f921\"]]}],\"heatmap\":[{\"type\":\"heatmap\",\"colorbar\":{\"outlinewidth\":0,\"ticks\":\"\"},\"colorscale\":[[0.0,\"#0d0887\"],[0.1111111111111111,\"#46039f\"],[0.2222222222222222,\"#7201a8\"],[0.3333333333333333,\"#9c179e\"],[0.4444444444444444,\"#bd3786\"],[0.5555555555555556,\"#d8576b\"],[0.6666666666666666,\"#ed7953\"],[0.7777777777777778,\"#fb9f3a\"],[0.8888888888888888,\"#fdca26\"],[1.0,\"#f0f921\"]]}],\"heatmapgl\":[{\"type\":\"heatmapgl\",\"colorbar\":{\"outlinewidth\":0,\"ticks\":\"\"},\"colorscale\":[[0.0,\"#0d0887\"],[0.1111111111111111,\"#46039f\"],[0.2222222222222222,\"#7201a8\"],[0.3333333333333333,\"#9c179e\"],[0.4444444444444444,\"#bd3786\"],[0.5555555555555556,\"#d8576b\"],[0.6666666666666666,\"#ed7953\"],[0.7777777777777778,\"#fb9f3a\"],[0.8888888888888888,\"#fdca26\"],[1.0,\"#f0f921\"]]}],\"contourcarpet\":[{\"type\":\"contourcarpet\",\"colorbar\":{\"outlinewidth\":0,\"ticks\":\"\"}}],\"contour\":[{\"type\":\"contour\",\"colorbar\":{\"outlinewidth\":0,\"ticks\":\"\"},\"colorscale\":[[0.0,\"#0d0887\"],[0.1111111111111111,\"#46039f\"],[0.2222222222222222,\"#7201a8\"],[0.3333333333333333,\"#9c179e\"],[0.4444444444444444,\"#bd3786\"],[0.5555555555555556,\"#d8576b\"],[0.6666666666666666,\"#ed7953\"],[0.7777777777777778,\"#fb9f3a\"],[0.8888888888888888,\"#fdca26\"],[1.0,\"#f0f921\"]]}],\"surface\":[{\"type\":\"surface\",\"colorbar\":{\"outlinewidth\":0,\"ticks\":\"\"},\"colorscale\":[[0.0,\"#0d0887\"],[0.1111111111111111,\"#46039f\"],[0.2222222222222222,\"#7201a8\"],[0.3333333333333333,\"#9c179e\"],[0.4444444444444444,\"#bd3786\"],[0.5555555555555556,\"#d8576b\"],[0.6666666666666666,\"#ed7953\"],[0.7777777777777778,\"#fb9f3a\"],[0.8888888888888888,\"#fdca26\"],[1.0,\"#f0f921\"]]}],\"mesh3d\":[{\"type\":\"mesh3d\",\"colorbar\":{\"outlinewidth\":0,\"ticks\":\"\"}}],\"scatter\":[{\"fillpattern\":{\"fillmode\":\"overlay\",\"size\":10,\"solidity\":0.2},\"type\":\"scatter\"}],\"parcoords\":[{\"type\":\"parcoords\",\"line\":{\"colorbar\":{\"outlinewidth\":0,\"ticks\":\"\"}}}],\"scatterpolargl\":[{\"type\":\"scatterpolargl\",\"marker\":{\"colorbar\":{\"outlinewidth\":0,\"ticks\":\"\"}}}],\"bar\":[{\"error_x\":{\"color\":\"#2a3f5f\"},\"error_y\":{\"color\":\"#2a3f5f\"},\"marker\":{\"line\":{\"color\":\"#E5ECF6\",\"width\":0.5},\"pattern\":{\"fillmode\":\"overlay\",\"size\":10,\"solidity\":0.2}},\"type\":\"bar\"}],\"scattergeo\":[{\"type\":\"scattergeo\",\"marker\":{\"colorbar\":{\"outlinewidth\":0,\"ticks\":\"\"}}}],\"scatterpolar\":[{\"type\":\"scatterpolar\",\"marker\":{\"colorbar\":{\"outlinewidth\":0,\"ticks\":\"\"}}}],\"histogram\":[{\"marker\":{\"pattern\":{\"fillmode\":\"overlay\",\"size\":10,\"solidity\":0.2}},\"type\":\"histogram\"}],\"scattergl\":[{\"type\":\"scattergl\",\"marker\":{\"colorbar\":{\"outlinewidth\":0,\"ticks\":\"\"}}}],\"scatter3d\":[{\"type\":\"scatter3d\",\"line\":{\"colorbar\":{\"outlinewidth\":0,\"ticks\":\"\"}},\"marker\":{\"colorbar\":{\"outlinewidth\":0,\"ticks\":\"\"}}}],\"scattermapbox\":[{\"type\":\"scattermapbox\",\"marker\":{\"colorbar\":{\"outlinewidth\":0,\"ticks\":\"\"}}}],\"scatterternary\":[{\"type\":\"scatterternary\",\"marker\":{\"colorbar\":{\"outlinewidth\":0,\"ticks\":\"\"}}}],\"scattercarpet\":[{\"type\":\"scattercarpet\",\"marker\":{\"colorbar\":{\"outlinewidth\":0,\"ticks\":\"\"}}}],\"carpet\":[{\"aaxis\":{\"endlinecolor\":\"#2a3f5f\",\"gridcolor\":\"white\",\"linecolor\":\"white\",\"minorgridcolor\":\"white\",\"startlinecolor\":\"#2a3f5f\"},\"baxis\":{\"endlinecolor\":\"#2a3f5f\",\"gridcolor\":\"white\",\"linecolor\":\"white\",\"minorgridcolor\":\"white\",\"startlinecolor\":\"#2a3f5f\"},\"type\":\"carpet\"}],\"table\":[{\"cells\":{\"fill\":{\"color\":\"#EBF0F8\"},\"line\":{\"color\":\"white\"}},\"header\":{\"fill\":{\"color\":\"#C8D4E3\"},\"line\":{\"color\":\"white\"}},\"type\":\"table\"}],\"barpolar\":[{\"marker\":{\"line\":{\"color\":\"#E5ECF6\",\"width\":0.5},\"pattern\":{\"fillmode\":\"overlay\",\"size\":10,\"solidity\":0.2}},\"type\":\"barpolar\"}],\"pie\":[{\"automargin\":true,\"type\":\"pie\"}]},\"layout\":{\"autotypenumbers\":\"strict\",\"colorway\":[\"#636efa\",\"#EF553B\",\"#00cc96\",\"#ab63fa\",\"#FFA15A\",\"#19d3f3\",\"#FF6692\",\"#B6E880\",\"#FF97FF\",\"#FECB52\"],\"font\":{\"color\":\"#2a3f5f\"},\"hovermode\":\"closest\",\"hoverlabel\":{\"align\":\"left\"},\"paper_bgcolor\":\"white\",\"plot_bgcolor\":\"#E5ECF6\",\"polar\":{\"bgcolor\":\"#E5ECF6\",\"angularaxis\":{\"gridcolor\":\"white\",\"linecolor\":\"white\",\"ticks\":\"\"},\"radialaxis\":{\"gridcolor\":\"white\",\"linecolor\":\"white\",\"ticks\":\"\"}},\"ternary\":{\"bgcolor\":\"#E5ECF6\",\"aaxis\":{\"gridcolor\":\"white\",\"linecolor\":\"white\",\"ticks\":\"\"},\"baxis\":{\"gridcolor\":\"white\",\"linecolor\":\"white\",\"ticks\":\"\"},\"caxis\":{\"gridcolor\":\"white\",\"linecolor\":\"white\",\"ticks\":\"\"}},\"coloraxis\":{\"colorbar\":{\"outlinewidth\":0,\"ticks\":\"\"}},\"colorscale\":{\"sequential\":[[0.0,\"#0d0887\"],[0.1111111111111111,\"#46039f\"],[0.2222222222222222,\"#7201a8\"],[0.3333333333333333,\"#9c179e\"],[0.4444444444444444,\"#bd3786\"],[0.5555555555555556,\"#d8576b\"],[0.6666666666666666,\"#ed7953\"],[0.7777777777777778,\"#fb9f3a\"],[0.8888888888888888,\"#fdca26\"],[1.0,\"#f0f921\"]],\"sequentialminus\":[[0.0,\"#0d0887\"],[0.1111111111111111,\"#46039f\"],[0.2222222222222222,\"#7201a8\"],[0.3333333333333333,\"#9c179e\"],[0.4444444444444444,\"#bd3786\"],[0.5555555555555556,\"#d8576b\"],[0.6666666666666666,\"#ed7953\"],[0.7777777777777778,\"#fb9f3a\"],[0.8888888888888888,\"#fdca26\"],[1.0,\"#f0f921\"]],\"diverging\":[[0,\"#8e0152\"],[0.1,\"#c51b7d\"],[0.2,\"#de77ae\"],[0.3,\"#f1b6da\"],[0.4,\"#fde0ef\"],[0.5,\"#f7f7f7\"],[0.6,\"#e6f5d0\"],[0.7,\"#b8e186\"],[0.8,\"#7fbc41\"],[0.9,\"#4d9221\"],[1,\"#276419\"]]},\"xaxis\":{\"gridcolor\":\"white\",\"linecolor\":\"white\",\"ticks\":\"\",\"title\":{\"standoff\":15},\"zerolinecolor\":\"white\",\"automargin\":true,\"zerolinewidth\":2},\"yaxis\":{\"gridcolor\":\"white\",\"linecolor\":\"white\",\"ticks\":\"\",\"title\":{\"standoff\":15},\"zerolinecolor\":\"white\",\"automargin\":true,\"zerolinewidth\":2},\"scene\":{\"xaxis\":{\"backgroundcolor\":\"#E5ECF6\",\"gridcolor\":\"white\",\"linecolor\":\"white\",\"showbackground\":true,\"ticks\":\"\",\"zerolinecolor\":\"white\",\"gridwidth\":2},\"yaxis\":{\"backgroundcolor\":\"#E5ECF6\",\"gridcolor\":\"white\",\"linecolor\":\"white\",\"showbackground\":true,\"ticks\":\"\",\"zerolinecolor\":\"white\",\"gridwidth\":2},\"zaxis\":{\"backgroundcolor\":\"#E5ECF6\",\"gridcolor\":\"white\",\"linecolor\":\"white\",\"showbackground\":true,\"ticks\":\"\",\"zerolinecolor\":\"white\",\"gridwidth\":2}},\"shapedefaults\":{\"line\":{\"color\":\"#2a3f5f\"}},\"annotationdefaults\":{\"arrowcolor\":\"#2a3f5f\",\"arrowhead\":0,\"arrowwidth\":1},\"geo\":{\"bgcolor\":\"white\",\"landcolor\":\"#E5ECF6\",\"subunitcolor\":\"white\",\"showland\":true,\"showlakes\":true,\"lakecolor\":\"white\"},\"title\":{\"x\":0.05},\"mapbox\":{\"style\":\"light\"}}},\"title\":{\"text\":\"WCSS vs. Cluster number\"},\"xaxis\":{\"title\":{\"text\":\"Clusters\"}},\"yaxis\":{\"title\":{\"text\":\"WCSS\"}}},                        {\"responsive\": true}                    ).then(function(){\n",
       "                            \n",
       "var gd = document.getElementById('99d6bf84-c9c6-404c-a23b-c0a34d6583d3');\n",
       "var x = new MutationObserver(function (mutations, observer) {{\n",
       "        var display = window.getComputedStyle(gd).display;\n",
       "        if (!display || display === 'none') {{\n",
       "            console.log([gd, 'removed!']);\n",
       "            Plotly.purge(gd);\n",
       "            observer.disconnect();\n",
       "        }}\n",
       "}});\n",
       "\n",
       "// Listen for the removal of the full notebook cells\n",
       "var notebookContainer = gd.closest('#notebook-container');\n",
       "if (notebookContainer) {{\n",
       "    x.observe(notebookContainer, {childList: true});\n",
       "}}\n",
       "\n",
       "// Listen for the clearing of the current output cell\n",
       "var outputEl = gd.closest('.output');\n",
       "if (outputEl) {{\n",
       "    x.observe(outputEl, {childList: true});\n",
       "}}\n",
       "\n",
       "                        })                };                });            </script>        </div>"
      ]
     },
     "metadata": {},
     "output_type": "display_data"
    }
   ],
   "source": [
    "# WCSS (Within Cluster Sum of Squares)\n",
    "wcss = []\n",
    "for i in range(1, 10):\n",
    "    kmeans = KMeans(n_clusters = i, init = \"k-means++\", max_iter = 500, n_init = 10, random_state = 123)\n",
    "    kmeans.fit(df_np)\n",
    "    wcss.append(kmeans.inertia_)\n",
    "    \n",
    "fig = go.Figure(data = go.Scatter(x = [1,2,3,4,5,6,7,8,9,10], y = wcss))\n",
    "\n",
    "\n",
    "fig.update_layout(title='WCSS vs. Cluster number',\n",
    "                   xaxis_title='Clusters',\n",
    "                   yaxis_title='WCSS')\n",
    "fig.show()"
   ]
  },
  {
   "cell_type": "code",
   "execution_count": 52,
   "id": "609d1ad7",
   "metadata": {},
   "outputs": [
    {
     "name": "stderr",
     "output_type": "stream",
     "text": [
      "C:\\Users\\krish\\anaconda3\\envs\\snowflake\\lib\\site-packages\\sklearn\\cluster\\_kmeans.py:1334: UserWarning:\n",
      "\n",
      "KMeans is known to have a memory leak on Windows with MKL, when there are less chunks than available threads. You can avoid it by setting the environment variable OMP_NUM_THREADS=2.\n",
      "\n"
     ]
    }
   ],
   "source": [
    "kmeans = KMeans(n_clusters = 3, init=\"k-means++\", max_iter = 300, n_init = 10, random_state = 123)\n",
    "identified_clusters = kmeans.fit_predict(df_np)"
   ]
  },
  {
   "cell_type": "code",
   "execution_count": 64,
   "id": "2115d725",
   "metadata": {},
   "outputs": [
    {
     "data": {
      "text/plain": [
       "array([0, 2, 1, 0, 0, 0, 1, 1, 0, 2, 1, 1, 2, 0, 1, 1, 1, 2, 2, 0, 1, 2,\n",
       "       2, 1, 0, 2, 0, 1, 1, 0, 1, 2, 0, 1, 1, 1, 2, 1, 1, 1, 1, 1, 0, 1,\n",
       "       2, 1, 0, 0, 1, 2, 0, 2, 2, 2, 1, 1, 1, 2, 1, 1, 0, 1, 0, 1, 1, 0,\n",
       "       0, 1, 2, 2, 2, 0, 2, 1, 0, 1, 2, 1, 1, 1, 1, 1, 0, 2, 1, 1, 1, 1,\n",
       "       1, 1, 2, 0, 1, 2, 1, 1, 1, 0, 1, 1, 1, 2, 2, 1, 2, 1, 1, 2, 0, 1,\n",
       "       1, 1, 2, 2, 0, 2, 1, 0, 1, 0, 0, 0, 1, 1, 1, 1, 1, 1, 1, 2, 0, 0,\n",
       "       2, 1, 2, 1, 1, 2, 1, 2, 2, 1, 1, 2, 1, 1, 1, 1, 2, 1, 2, 0, 0, 0,\n",
       "       0, 1, 0, 0, 1, 1, 1, 2, 1, 1, 1, 1, 1, 0, 1, 1, 2, 2, 0, 2, 1, 2,\n",
       "       1, 0, 1, 1, 1, 0, 1, 2, 0, 1, 2, 1, 1, 1, 0, 1, 1, 1, 2, 2, 2, 0,\n",
       "       0, 1, 1, 0, 2, 2, 0, 0, 2, 0, 2, 1, 1, 1, 1, 0, 2, 1, 2, 1, 2, 1,\n",
       "       1, 0, 1, 0, 0, 2, 1, 1, 1, 2, 1, 1, 0, 1, 1, 1, 1, 2, 2, 1, 2, 0,\n",
       "       2, 1, 0, 2, 0, 0, 2, 1, 1, 2, 2, 1, 1, 1, 0, 0, 0, 2, 0, 1, 2, 1,\n",
       "       0, 0, 0, 2, 1, 0, 1, 0, 0, 0, 2, 0, 2, 0, 1, 2, 1, 0, 1, 2, 1, 1,\n",
       "       0, 2, 2, 1, 1, 2, 0, 2, 0, 2, 1, 1, 0, 2, 1, 1, 1, 2, 1, 0, 2, 2,\n",
       "       0, 2, 1, 1, 2, 1, 0, 0, 1, 2, 0, 0, 2, 1, 1, 1, 0, 2, 1, 0, 2, 2,\n",
       "       2, 1, 2, 1, 2, 2, 1, 2, 2, 1, 1, 0, 1, 0, 2, 1, 1, 0, 2, 2, 1, 1,\n",
       "       1, 0, 1, 2, 0, 1, 2, 0, 2, 2, 2, 1, 1, 0, 1, 2, 0, 1, 1, 2, 2, 2,\n",
       "       2, 1, 1, 1, 1, 2, 1, 1, 2, 0, 1, 2, 1, 1, 2, 0, 1, 1, 1, 1, 0, 1,\n",
       "       0, 1, 1, 2, 0, 1, 1, 0, 1, 1, 2, 2, 1, 1, 0, 0, 2, 1, 1, 2, 1, 2,\n",
       "       1, 1, 0, 1, 0, 1, 1, 0, 1, 0, 0, 1, 0, 1, 1, 2, 2, 0, 0, 2, 2, 0,\n",
       "       1, 1, 2, 0, 2, 1, 1, 2, 1, 2, 1, 2, 1, 1, 2, 2, 2, 1, 1, 2, 0, 1,\n",
       "       2, 2, 0, 1, 0, 2, 0, 2, 2, 1, 1, 2, 1, 1, 2, 1, 1, 2, 1, 1, 1, 1,\n",
       "       1, 1, 0, 2, 0, 2, 1, 1, 2, 0, 1, 0, 1, 1, 1, 1])"
      ]
     },
     "execution_count": 64,
     "metadata": {},
     "output_type": "execute_result"
    }
   ],
   "source": [
    "identified_clusters"
   ]
  },
  {
   "cell_type": "code",
   "execution_count": 68,
   "id": "a277c027",
   "metadata": {},
   "outputs": [],
   "source": [
    "data_with_clusters = df.copy()\n",
    "data_with_clusters['Cluster'] = identified_clusters.tolist()\n",
    "#data_with_clusters.loc['Clusters'] = identified_clusters"
   ]
  },
  {
   "cell_type": "code",
   "execution_count": 71,
   "id": "10893046",
   "metadata": {},
   "outputs": [
    {
     "data": {
      "application/vnd.plotly.v1+json": {
       "config": {
        "plotlyServerURL": "https://plot.ly"
       },
       "data": [
        {
         "hovertemplate": "Session Length on App=%{x}<br>Session Length on Website=%{y}<br>Yearly Expenditure=%{z}<br>Duration of Subscription in Years=%{marker.size}<br>Cluster=%{marker.color}<extra></extra>",
         "legendgroup": "",
         "marker": {
          "color": [
           0,
           2,
           1,
           0,
           0,
           0,
           1,
           1,
           0,
           2,
           1,
           1,
           2,
           0,
           1,
           1,
           1,
           2,
           2,
           0,
           1,
           2,
           2,
           1,
           0,
           2,
           0,
           1,
           1,
           0,
           1,
           2,
           0,
           1,
           1,
           1,
           2,
           1,
           1,
           1,
           1,
           1,
           0,
           1,
           2,
           1,
           0,
           0,
           1,
           2,
           0,
           2,
           2,
           2,
           1,
           1,
           1,
           2,
           1,
           1,
           0,
           1,
           0,
           1,
           1,
           0,
           0,
           1,
           2,
           2,
           2,
           0,
           2,
           1,
           0,
           1,
           2,
           1,
           1,
           1,
           1,
           1,
           0,
           2,
           1,
           1,
           1,
           1,
           1,
           1,
           2,
           0,
           1,
           2,
           1,
           1,
           1,
           0,
           1,
           1,
           1,
           2,
           2,
           1,
           2,
           1,
           1,
           2,
           0,
           1,
           1,
           1,
           2,
           2,
           0,
           2,
           1,
           0,
           1,
           0,
           0,
           0,
           1,
           1,
           1,
           1,
           1,
           1,
           1,
           2,
           0,
           0,
           2,
           1,
           2,
           1,
           1,
           2,
           1,
           2,
           2,
           1,
           1,
           2,
           1,
           1,
           1,
           1,
           2,
           1,
           2,
           0,
           0,
           0,
           0,
           1,
           0,
           0,
           1,
           1,
           1,
           2,
           1,
           1,
           1,
           1,
           1,
           0,
           1,
           1,
           2,
           2,
           0,
           2,
           1,
           2,
           1,
           0,
           1,
           1,
           1,
           0,
           1,
           2,
           0,
           1,
           2,
           1,
           1,
           1,
           0,
           1,
           1,
           1,
           2,
           2,
           2,
           0,
           0,
           1,
           1,
           0,
           2,
           2,
           0,
           0,
           2,
           0,
           2,
           1,
           1,
           1,
           1,
           0,
           2,
           1,
           2,
           1,
           2,
           1,
           1,
           0,
           1,
           0,
           0,
           2,
           1,
           1,
           1,
           2,
           1,
           1,
           0,
           1,
           1,
           1,
           1,
           2,
           2,
           1,
           2,
           0,
           2,
           1,
           0,
           2,
           0,
           0,
           2,
           1,
           1,
           2,
           2,
           1,
           1,
           1,
           0,
           0,
           0,
           2,
           0,
           1,
           2,
           1,
           0,
           0,
           0,
           2,
           1,
           0,
           1,
           0,
           0,
           0,
           2,
           0,
           2,
           0,
           1,
           2,
           1,
           0,
           1,
           2,
           1,
           1,
           0,
           2,
           2,
           1,
           1,
           2,
           0,
           2,
           0,
           2,
           1,
           1,
           0,
           2,
           1,
           1,
           1,
           2,
           1,
           0,
           2,
           2,
           0,
           2,
           1,
           1,
           2,
           1,
           0,
           0,
           1,
           2,
           0,
           0,
           2,
           1,
           1,
           1,
           0,
           2,
           1,
           0,
           2,
           2,
           2,
           1,
           2,
           1,
           2,
           2,
           1,
           2,
           2,
           1,
           1,
           0,
           1,
           0,
           2,
           1,
           1,
           0,
           2,
           2,
           1,
           1,
           1,
           0,
           1,
           2,
           0,
           1,
           2,
           0,
           2,
           2,
           2,
           1,
           1,
           0,
           1,
           2,
           0,
           1,
           1,
           2,
           2,
           2,
           2,
           1,
           1,
           1,
           1,
           2,
           1,
           1,
           2,
           0,
           1,
           2,
           1,
           1,
           2,
           0,
           1,
           1,
           1,
           1,
           0,
           1,
           0,
           1,
           1,
           2,
           0,
           1,
           1,
           0,
           1,
           1,
           2,
           2,
           1,
           1,
           0,
           0,
           2,
           1,
           1,
           2,
           1,
           2,
           1,
           1,
           0,
           1,
           0,
           1,
           1,
           0,
           1,
           0,
           0,
           1,
           0,
           1,
           1,
           2,
           2,
           0,
           0,
           2,
           2,
           0,
           1,
           1,
           2,
           0,
           2,
           1,
           1,
           2,
           1,
           2,
           1,
           2,
           1,
           1,
           2,
           2,
           2,
           1,
           1,
           2,
           0,
           1,
           2,
           2,
           0,
           1,
           0,
           2,
           0,
           2,
           2,
           1,
           1,
           2,
           1,
           1,
           2,
           1,
           1,
           2,
           1,
           1,
           1,
           1,
           1,
           1,
           0,
           2,
           0,
           2,
           1,
           1,
           2,
           0,
           1,
           0,
           1,
           1,
           1,
           1
          ],
          "coloraxis": "coloraxis",
          "opacity": 0.8,
          "size": [
           4.082620633,
           2.664034182,
           4.104543202,
           3.120178783,
           4.446308318,
           5.493507201,
           4.685017247,
           4.434273435,
           3.273433578,
           3.202806072,
           2.482607771,
           3.713209203,
           4.046423164,
           3.918541839,
           2.494543647,
           3.357846842,
           3.136132716,
           2.420806161,
           1.516575581,
           4.06454855,
           4.599937358,
           1.55915194,
           2.245147787,
           3.919302309,
           5.705153971,
           2.721735992,
           4.648199316,
           2.996364526,
           3.923488746,
           4.74257752,
           3.062368145,
           3.471413452,
           4.343062915,
           2.820097234,
           4.124585297,
           3.649286158,
           1.847370423,
           3.452388583,
           4.650491269,
           4.222436225,
           4.671275461,
           4.646119977,
           4.214495086,
           4.64325855,
           2.258686387,
           3.663105491,
           3.876875177,
           4.113226123,
           3.202531199,
           3.198399272,
           5.976768126,
           2.952668958,
           2.094891706,
           3.855471685,
           2.87459691,
           3.392050489,
           2.995761183,
           3.315224754,
           3.471919137,
           3.970555628,
           4.639320332,
           5.081210092,
           4.802630631,
           3.414688423,
           3.462298847,
           5.377593584,
           4.001786346,
           3.43959056,
           2.779520719,
           3.552649767,
           2.602287112,
           4.694322274,
           3.401522345,
           3.8515788,
           3.258112883,
           3.120568915,
           2.837943164,
           4.470282584,
           4.442054329,
           3.164943995,
           3.751734552,
           3.159754444,
           4.130562809,
           1.914089924,
           4.396651901,
           5.113319475,
           2.669941624,
           3.366463743,
           4.571213024,
           3.917451119,
           2.476139051,
           4.125584363,
           3.997255378,
           1.36267408,
           4.193324636,
           3.8710034,
           4.081802695,
           4.252006106,
           3.911708668,
           3.021671822,
           3.184618662,
           2.877224878,
           2.586967985,
           2.969640227,
           3.428859904,
           2.926940235,
           3.781823039,
           3.004742536,
           3.854473856,
           3.318822279,
           3.361814624,
           3.722561173,
           3.54354705,
           2.789461516,
           5.485976734,
           2.594189721,
           2.753424169,
           5.004820577,
           3.873337569,
           3.798725319,
           3.292797663,
           4.716104987,
           4.01872661,
           3.63770128,
           3.834169667,
           4.531986607,
           4.106055152,
           3.218265385,
           3.283663455,
           2.924020725,
           3.905250309,
           4.920318406,
           2.473596121,
           4.131276648,
           1.767730708,
           2.724108202,
           3.89711586,
           2.491671541,
           3.863425442,
           3.5786339,
           3.958892264,
           3.25174177,
           3.914384667,
           1.443515075,
           2.910037917,
           3.345570976,
           3.089527782,
           4.514122441,
           1.825884669,
           3.993656513,
           2.652158305,
           6.401228838,
           5.391275125,
           6.076653638,
           3.864860739,
           2.941410754,
           5.084861309,
           6.922689335,
           3.60439856,
           3.78493211,
           3.309182328,
           0.968622116,
           3.768561963,
           3.585160635,
           4.520353377,
           3.6758488,
           2.873007509,
           4.055775962,
           3.015175299,
           4.717102513,
           2.926396449,
           2.361086947,
           4.968742674,
           0.80151572,
           3.669225611,
           1.715777167,
           4.773503047,
           4.087837273,
           4.13175504,
           3.442799202,
           4.72402744,
           3.230973843,
           2.972271382,
           3.182329732,
           4.806349619,
           3.620364988,
           3.261324745,
           3.597459969,
           4.789201624,
           3.316464745,
           4.632460946,
           3.308443001,
           4.01598664,
           4.369366794,
           2.566639844,
           3.519032434,
           1.503854421,
           5.039955264,
           4.478712608,
           3.361612985,
           1.920715478,
           4.330714462,
           3.811248171,
           3.088763958,
           4.541695257,
           5.066696864,
           3.107468683,
           4.746989703,
           3.09182687,
           3.195625776,
           3.850279639,
           3.97452248,
           3.843848921,
           2.90900846,
           1.139093538,
           2.685284836,
           3.108911449,
           4.852842407,
           2.307552421,
           4.835528667,
           3.678589399,
           5.254708926,
           3.89289148,
           4.389455226,
           4.003325039,
           0.789519908,
           4.403369831,
           2.64859677,
           2.367848224,
           3.050712973,
           3.641497162,
           3.397363093,
           4.297686524,
           3.803364999,
           2.633419989,
           3.634093727,
           3.467014066,
           1.494310895,
           2.267251114,
           5.023934201,
           2.47175067,
           4.297737482,
           2.436958876,
           3.656983927,
           5.000243361,
           2.412830961,
           5.314354141,
           4.077775098,
           3.275070681,
           3.634996006,
           3.982471513,
           3.287701824,
           2.313349885,
           3.557813698,
           3.350279288,
           2.907094935,
           3.792711955,
           4.029453828,
           4.978475793,
           2.699562055,
           3.930615327,
           3.456233824,
           2.18201697,
           2.709526627,
           4.594116865,
           4.25698329,
           3.784273087,
           1.623419609,
           3.41450624,
           3.606086889,
           3.275733705,
           5.007271987,
           3.371258113,
           5.453969475,
           3.755869389,
           4.664258497,
           3.806670949,
           5.049927475,
           2.871947536,
           3.236732814,
           3.086337272,
           4.559699083,
           3.010209778,
           1.809229592,
           3.5942951,
           3.049195744,
           3.634340224,
           1.482359644,
           2.921350141,
           1.810079876,
           3.373104674,
           2.214797519,
           5.454463278,
           3.201801722,
           4.729484542,
           3.205529765,
           3.802511439,
           4.116340467,
           5.462500764,
           1.481616627,
           3.771420132,
           2.898299578,
           3.569046516,
           1.084585303,
           3.023474446,
           5.566384892,
           2.39516813,
           3.504833486,
           5.226687713,
           1.838210702,
           3.363411394,
           2.957448757,
           2.083814192,
           3.680847338,
           4.693732058,
           4.008352235,
           2.532044062,
           2.87098691,
           3.515688256,
           4.069916619,
           1.200483857,
           3.229450904,
           4.086566338,
           4.019470352,
           4.20590389,
           2.018194629,
           4.243812817,
           4.626075292,
           3.002957023,
           1.823595183,
           4.078308002,
           3.689916615,
           2.190132185,
           3.206756698,
           1.977007128,
           3.349245383,
           3.53286158,
           2.974736815,
           2.61816531,
           2.804013693,
           2.964497876,
           4.350887844,
           3.872432042,
           4.615426307,
           2.727209454,
           3.53712388,
           3.12650949,
           5.137816746,
           3.128638856,
           3.178952405,
           3.827375915,
           4.808320373,
           4.048510087,
           4.543332413,
           3.481062133,
           2.627624971,
           4.794312263,
           2.761861926,
           2.159676023,
           4.195614413,
           2.139403004,
           3.434559723,
           2.868428182,
           3.137068975,
           3.525806412,
           5.038107494,
           3.612239152,
           2.895075163,
           5.705940717,
           5.047022551,
           4.778973636,
           2.966558885,
           2.668919773,
           3.620354589,
           4.238296188,
           2.479339823,
           3.506967574,
           3.310150347,
           3.535802468,
           1.13047696,
           3.228717686,
           3.345922321,
           3.215666827,
           3.790552137,
           3.561215271,
           2.931619535,
           3.046540621,
           2.739200467,
           2.783963128,
           4.330407444,
           3.416209978,
           3.336339382,
           4.662845304,
           3.222080767,
           3.772969025,
           3.42014953,
           6.115198946,
           3.488029991,
           4.082855279,
           2.829699575,
           5.405406467,
           3.45175071,
           2.935577274,
           4.750360071,
           3.531402303,
           3.90447938,
           2.39907979,
           2.847709026,
           3.781703565,
           4.349778419,
           4.574287716,
           4.620416385,
           3.0130325,
           4.791108745,
           4.334001444,
           1.428823877,
           4.137000388,
           2.910530822,
           3.982462319,
           3.701229217,
           5.840505876,
           4.560396067,
           4.490002066,
           3.859817999,
           3.046620189,
           4.652854446,
           4.02210291,
           3.969417759,
           3.738225173,
           3.3766875,
           4.595522709,
           2.223993458,
           4.288486771,
           2.117382542,
           0.936497597,
           3.762070443,
           4.000963586,
           3.532517165,
           3.535088428,
           4.158214653,
           3.549036057,
           4.129254688,
           2.252445963,
           4.051382465,
           3.072076141,
           4.331863027,
           3.937862643,
           0.26990109,
           3.27946626,
           2.571777835,
           3.826030618,
           2.402453833,
           4.027813842,
           3.629339915,
           3.189609942,
           3.393975043,
           2.57494847,
           3.47202138,
           4.198349061,
           2.086348147,
           3.605933918,
           4.03438613,
           2.32055025,
           3.491093337,
           5.320093864,
           3.130538462,
           4.985204971,
           1.726962043,
           3.701622287,
           1.785173945,
           3.02267576,
           4.041244969,
           3.139526935,
           2.562818811,
           2.379076497,
           4.301996499,
           2.094761669,
           4.089330841,
           3.516051017,
           1.820810618,
           4.183143662,
           3.393902788,
           4.426364081,
           2.905238361,
           2.782757828,
           3.447017793,
           4.712233579,
           1.228112423,
           4.019051427,
           1.707389729,
           3.163091931,
           3.447092896,
           2.208813678,
           5.41235784,
           2.768851943,
           3.746572973,
           3.576525915,
           4.958264473,
           2.336484668,
           2.735159567
          ],
          "sizemode": "area",
          "sizeref": 0.007691877038888889,
          "symbol": "circle"
         },
         "mode": "markers",
         "name": "",
         "scene": "scene",
         "showlegend": false,
         "type": "scatter3d",
         "x": [
          12.65565115,
          11.10946073,
          11.33027806,
          13.71751367,
          12.79518855,
          12.02692534,
          11.36634831,
          12.35195897,
          13.38623528,
          11.81412829,
          13.33897545,
          11.584783,
          10.9612984,
          12.95922609,
          13.14872569,
          12.63660605,
          11.73386169,
          12.01319469,
          14.71538754,
          13.98959256,
          11.36549203,
          12.8779837,
          13.37856278,
          11.65757592,
          12.8936695,
          11.76581265,
          12.78389178,
          13.00781942,
          11.98204499,
          11.96502,
          12.30541781,
          10.86916381,
          13.38749211,
          13.10450724,
          11.63489325,
          11.9363865,
          11.7550237,
          11.98441752,
          9.954975969,
          12.48901322,
          11.73310622,
          10.63456132,
          12.50752537,
          11.52987821,
          13.41493474,
          12.17052542,
          13.14655143,
          12.98851015,
          11.86412636,
          11.39806419,
          13.85806246,
          10.95679097,
          10.32011626,
          9.984514397,
          12.64519514,
          11.58865542,
          13.76153285,
          10.56829469,
          11.83228622,
          12.06415663,
          12.4955916,
          9.607314688,
          13.72862718,
          11.67006592,
          13.27631301,
          15.12699429,
          12.69578975,
          11.83547609,
          11.30623234,
          11.18753891,
          11.88749413,
          12.22893471,
          10.67465347,
          12.81711309,
          13.58780608,
          12.23805735,
          11.55182117,
          11.43337993,
          10.88956686,
          11.92884209,
          12.59567131,
          10.94725858,
          13.89808199,
          10.87555955,
          10.3380727,
          11.63466822,
          12.51766629,
          10.60772387,
          12.8288934,
          12.06881608,
          12.53035737,
          13.5162843,
          11.66226343,
          13.66474788,
          11.83023109,
          13.29114305,
          11.94234087,
          13.34991294,
          12.02011209,
          12.08409173,
          13.41075918,
          11.28193107,
          11.44890154,
          12.59542035,
          10.99422392,
          13.08550576,
          12.19047429,
          10.71914974,
          12.93155027,
          13.45212896,
          12.14937549,
          12.17833133,
          11.01048213,
          11.60253219,
          12.73221159,
          11.22336889,
          12.01102188,
          11.7259101,
          12.08930957,
          13.06863858,
          12.85499037,
          11.56402237,
          11.1133299,
          12.80988347,
          11.76117233,
          12.57989417,
          11.95792306,
          10.65179378,
          12.75207661,
          11.54083244,
          11.92439492,
          12.42413041,
          11.81058676,
          12.75916898,
          11.85189083,
          12.70368793,
          12.21525242,
          11.281445,
          10.73536292,
          10.96313178,
          11.73509455,
          12.41896198,
          10.53730754,
          11.9192424,
          11.91141556,
          12.488067,
          12.38069498,
          10.48050683,
          12.29651768,
          10.8616042,
          10.71635514,
          12.38718417,
          10.98483589,
          12.96576148,
          12.05026723,
          13.45772494,
          12.44304789,
          12.20729849,
          11.58631953,
          11.37808709,
          12.3643416,
          12.39943608,
          12.54248105,
          13.28043224,
          11.79588668,
          12.71803917,
          12.03964784,
          12.47445545,
          13.16002004,
          11.05232365,
          10.63676108,
          13.44340599,
          13.28303287,
          11.7477317,
          10.85960853,
          11.69168613,
          11.54876144,
          11.72400223,
          12.17857308,
          12.31984506,
          11.08436084,
          13.17777453,
          12.83280284,
          11.509048,
          11.85766344,
          12.29336584,
          10.93325228,
          13.33283928,
          10.90255623,
          12.27698171,
          12.03880824,
          11.72447386,
          11.2026699,
          13.37806333,
          11.38861262,
          10.77107406,
          11.81857176,
          13.80879868,
          11.65983284,
          13.10010954,
          13.06789568,
          12.49432293,
          11.34003593,
          11.19966096,
          11.33248778,
          13.9194944,
          11.03135834,
          11.08458409,
          10.54264542,
          11.79779551,
          12.44261655,
          12.10454243,
          12.37849022,
          13.72245368,
          12.72590932,
          13.6851189,
          10.01258337,
          11.43553387,
          12.35460708,
          10.74853366,
          11.59187167,
          11.23650676,
          11.10945633,
          12.11494496,
          11.86648121,
          10.25654903,
          12.16859647,
          13.08535689,
          13.01337563,
          10.98397673,
          13.10515852,
          12.14474854,
          13.90991551,
          11.39520943,
          13.03356618,
          11.62277717,
          12.6007504,
          13.18791099,
          13.26676035,
          11.75234317,
          11.56811634,
          12.63857212,
          11.38864458,
          11.8229833,
          12.72567737,
          11.20115977,
          11.34726361,
          14.22097911,
          11.54627576,
          11.91763618,
          12.27605698,
          10.13171246,
          12.02694222,
          13.1722875,
          12.32629139,
          13.89131342,
          12.93092854,
          11.37925718,
          14.06938234,
          10.80489056,
          14.42649105,
          13.04124459,
          11.7397438,
          12.49105874,
          12.89237451,
          11.66886651,
          11.77777204,
          12.13879388,
          12.22296745,
          13.4023319,
          12.95627661,
          12.88412462,
          13.3254691,
          12.15858523,
          11.22654566,
          12.46113544,
          9.846124909,
          13.32541219,
          13.67724584,
          11.64496955,
          13.48500899,
          11.62099651,
          13.01445915,
          11.46698422,
          11.68490419,
          12.09396636,
          14.32565494,
          12.91484663,
          9.82440177,
          12.80775183,
          13.05827793,
          10.5345535,
          11.14343308,
          10.98280553,
          11.15396605,
          11.94717532,
          11.470565,
          11.03785041,
          11.1673569,
          11.56293625,
          12.22772828,
          13.18681287,
          13.39445179,
          11.85139874,
          12.26650384,
          13.45922229,
          11.79297182,
          10.98574015,
          12.63755716,
          8.508152176,
          11.65659203,
          11.96689808,
          11.80298578,
          12.67740144,
          13.03253498,
          12.44761745,
          12.23565925,
          10.97316208,
          13.66576979,
          13.39112018,
          12.96832561,
          12.96889313,
          10.73213134,
          10.95235338,
          12.60888879,
          13.03951103,
          10.99968366,
          13.27895623,
          10.62794923,
          13.18518117,
          11.35104901,
          12.95481145,
          11.73704064,
          11.8873453,
          10.75713093,
          11.61265077,
          11.97906148,
          12.46114744,
          10.07946345,
          12.58924056,
          14.28801459,
          11.9171157,
          11.40964462,
          12.81539265,
          11.67322925,
          10.61053652,
          12.50654819,
          11.30446231,
          10.88692118,
          12.09588949,
          12.69266143,
          11.38677555,
          10.72841854,
          11.93689516,
          12.7179951,
          10.96980287,
          13.42054574,
          11.85468192,
          11.91885971,
          13.14966956,
          12.6853939,
          10.34787695,
          9.316289204,
          12.58154773,
          11.76444759,
          12.64420212,
          11.83211223,
          10.44123506,
          12.72971951,
          9.477777608,
          10.16317906,
          11.60899794,
          11.26825923,
          11.16315954,
          10.1016322,
          12.76153128,
          12.05534016,
          11.93593497,
          12.45120001,
          12.28446707,
          12.78217179,
          12.96030713,
          9.953995006,
          13.13002166,
          11.52056679,
          10.97255431,
          13.53191346,
          12.03950237,
          10.94206962,
          12.66419262,
          11.73066139,
          11.91867031,
          11.51494907,
          12.4181132,
          13.88727541,
          12.84649907,
          10.88982828,
          12.91457009,
          11.56852664,
          11.97175079,
          13.07869244,
          11.95642648,
          13.25273709,
          13.09353728,
          12.52747174,
          11.23596895,
          12.07483017,
          12.04533198,
          11.23074331,
          11.9078441,
          13.05221039,
          13.00436201,
          11.52352268,
          10.31471792,
          12.43312853,
          10.74518855,
          11.01675564,
          12.21685469,
          12.32914702,
          10.80696607,
          12.1351014,
          12.94155573,
          13.30029936,
          10.39845771,
          11.88780042,
          11.5914397,
          13.27147504,
          12.9882206,
          14.03986726,
          11.90650776,
          11.1371403,
          12.90266489,
          12.38651626,
          11.82272175,
          10.98576379,
          14.13289346,
          11.91221048,
          11.48158715,
          10.04731474,
          12.42873693,
          11.96598027,
          11.12136606,
          8.668349517,
          12.50421981,
          12.13250911,
          11.73299146,
          11.94659088,
          12.55610762,
          12.48070152,
          12.59419407,
          10.94684194,
          11.48419869,
          11.12087087,
          10.97139243,
          11.58894858,
          10.70664152,
          11.07625934,
          12.95326254,
          10.5724666,
          11.65803681,
          13.59251266,
          11.37176736,
          11.23341495,
          10.29035077,
          14.12178384,
          12.41554196,
          10.77024892,
          12.66439052,
          12.66780888,
          13.97018107,
          11.50925345,
          11.40577045,
          12.26371768,
          12.7107013,
          13.47157767,
          11.18680872,
          11.24681261,
          12.35763811,
          11.76432596,
          11.7618838,
          11.55030011,
          12.48266992,
          11.73136429,
          12.21407375,
          11.90375668,
          12.22248394,
          12.00591637,
          11.91374515,
          12.12540197,
          11.30555143,
          11.60899707,
          11.6930582,
          11.20156988,
          12.62543264,
          13.35063168,
          13.56615961,
          11.69573629,
          11.49940906,
          12.39142299,
          12.41880832
         ],
         "y": [
          39.57766802,
          37.26895887,
          37.11059744,
          36.72128268,
          37.5366533,
          34.47687763,
          36.68377615,
          37.37335886,
          37.53449734,
          37.14516822,
          37.22580613,
          37.08792607,
          37.42021558,
          36.1446667,
          36.61995708,
          36.21376309,
          34.89409275,
          38.38513659,
          38.24411459,
          37.1905038,
          37.60779252,
          37.44102134,
          38.73400629,
          36.77260376,
          37.63575588,
          37.73852495,
          36.43064962,
          37.85177917,
          35.29308775,
          37.27781174,
          36.16364817,
          35.62244242,
          35.69417499,
          38.87804051,
          35.36862633,
          38.768641,
          36.76572236,
          37.0443614,
          37.38831487,
          36.37147981,
          37.53429101,
          37.49669015,
          37.14286198,
          36.88808605,
          36.11243501,
          39.13109673,
          37.33544589,
          36.46200326,
          36.58272777,
          36.5944567,
          37.78026469,
          37.26687826,
          37.4534051,
          35.9334493,
          38.46832111,
          35.25224202,
          39.25293095,
          36.17312563,
          36.81401056,
          37.27122169,
          38.05260975,
          36.49399255,
          37.99702801,
          37.40874848,
          36.60077705,
          37.15762409,
          35.35844431,
          36.37506611,
          37.68040323,
          40.00518164,
          36.2650007,
          36.15719115,
          38.00658318,
          37.03153922,
          38.26035344,
          38.73086174,
          36.62883429,
          35.89243163,
          38.21257083,
          36.91463331,
          39.60037647,
          35.88399439,
          37.05891282,
          37.78114256,
          36.15725594,
          36.18253928,
          37.15192066,
          36.81909551,
          36.95161668,
          36.1050005,
          37.8752191,
          36.77312349,
          36.05024078,
          37.72438616,
          36.6338567,
          38.63362565,
          38.06341359,
          37.82739423,
          39.07440021,
          35.89035796,
          35.99048895,
          37.38531755,
          37.58019043,
          36.2620318,
          38.07445242,
          35.84582711,
          36.15246209,
          37.71250864,
          38.16643556,
          38.50300885,
          37.32533422,
          37.71598618,
          38.41504158,
          37.30968877,
          35.60082055,
          37.69230086,
          36.70105232,
          35.9990993,
          38.3099079,
          37.54052036,
          35.00748226,
          37.67321037,
          37.38794554,
          36.54966799,
          37.57016384,
          37.09326487,
          36.63465233,
          37.14600653,
          36.71413784,
          37.52642103,
          37.24503247,
          38.94882503,
          37.41413357,
          36.59911235,
          37.42454792,
          36.10091445,
          36.59436168,
          36.49440648,
          37.45837473,
          37.32728269,
          36.59937399,
          35.97765171,
          35.7305524,
          39.29404346,
          38.2747022,
          36.51838359,
          37.23200331,
          37.33866962,
          36.95155521,
          36.58443762,
          38.30720401,
          37.4311591,
          37.39649748,
          36.9663889,
          36.95964319,
          37.23880567,
          37.32784804,
          33.91384725,
          39.09462703,
          38.30447119,
          38.03910939,
          35.01280603,
          38.3113649,
          36.93615938,
          37.65861691,
          37.66110668,
          38.92408705,
          35.03785616,
          36.40774745,
          37.63300942,
          37.57883524,
          36.87831537,
          35.90729843,
          36.93988205,
          38.83567008,
          37.48091198,
          38.57651555,
          36.81385766,
          35.67425603,
          37.81915511,
          37.95968432,
          38.85604171,
          37.67924462,
          37.25305774,
          36.08693433,
          37.0646212,
          36.54550623,
          37.96439033,
          36.09424195,
          38.23260623,
          37.63529941,
          37.1531516,
          35.49396408,
          36.33780003,
          37.90913872,
          37.27863979,
          37.10203133,
          37.42676892,
          37.28139283,
          35.90772143,
          36.67822227,
          36.04545942,
          37.03951365,
          38.6887091,
          35.4598628,
          37.95201319,
          38.25297827,
          36.77601658,
          35.5338635,
          37.7773658,
          38.13171203,
          36.05964598,
          38.76429717,
          35.77311639,
          36.5446641,
          34.89198327,
          38.35495987,
          36.22355746,
          37.12234521,
          35.73870747,
          37.7436197,
          37.67502073,
          38.58585476,
          36.28872395,
          37.71777057,
          36.14390846,
          37.07361617,
          37.6056528,
          36.65127792,
          37.95148946,
          35.57484167,
          37.25803146,
          37.79223754,
          37.33281446,
          37.07679516,
          35.96889569,
          37.37011822,
          37.06708997,
          36.9711951,
          38.57360523,
          36.90937821,
          36.09722093,
          39.08156475,
          36.94612578,
          35.96566746,
          37.68933698,
          36.32365247,
          37.52319665,
          36.94795369,
          36.84473382,
          37.19279353,
          34.84561239,
          36.13389429,
          36.19975347,
          36.67387836,
          39.22071295,
          36.3602472,
          36.63610412,
          38.99332245,
          37.37276215,
          37.3741835,
          36.65520808,
          36.85481082,
          38.23894085,
          36.5273883,
          37.34126616,
          37.97982686,
          36.85388246,
          36.82275323,
          37.29204471,
          38.65509454,
          36.22604169,
          36.76860309,
          36.57513378,
          35.66993517,
          37.74560774,
          36.87631323,
          36.89729461,
          37.7446997,
          37.02687697,
          37.55088041,
          38.41946853,
          37.78903635,
          35.67572763,
          38.7170763,
          36.62077386,
          35.72182733,
          39.06886445,
          35.74277913,
          38.55103029,
          37.26387556,
          37.03479129,
          35.94639915,
          34.81063145,
          37.24032955,
          36.19083324,
          37.06168877,
          38.61733445,
          35.62658733,
          35.97656497,
          36.98591348,
          38.0669296,
          37.80697767,
          36.92504304,
          36.57503098,
          36.33952101,
          36.25781912,
          37.36839124,
          36.51708576,
          35.46240008,
          36.54860515,
          36.54759628,
          36.31576315,
          35.62253059,
          37.87095205,
          37.53453024,
          37.27757338,
          36.60950715,
          36.90022076,
          37.19419105,
          38.29611037,
          37.33310742,
          36.14579171,
          37.64629179,
          37.22939452,
          36.31272657,
          38.44276669,
          37.38718053,
          38.04031367,
          35.92159519,
          37.08884658,
          37.10881638,
          37.93518905,
          35.86244708,
          36.59586795,
          39.2488039,
          38.26906069,
          37.42899737,
          38.07066426,
          37.33224075,
          36.77386137,
          37.76668677,
          35.77778217,
          37.95780983,
          37.84065508,
          37.97738874,
          35.82346667,
          37.83397173,
          34.89782769,
          36.37750903,
          37.33359061,
          38.19748325,
          36.88119241,
          35.90025278,
          35.12882235,
          35.97457811,
          37.7636904,
          37.49189221,
          35.71626916,
          37.6504002,
          36.04898625,
          39.0451557,
          36.91495155,
          35.4442647,
          37.92270381,
          38.00182747,
          36.84149164,
          35.9389625,
          36.2321098,
          37.90601452,
          37.76304108,
          38.11045691,
          36.95696543,
          37.08831936,
          38.04345265,
          36.90818962,
          37.68546549,
          35.78392374,
          36.66579137,
          38.29572526,
          35.55077227,
          37.95194632,
          37.34573893,
          35.42933439,
          36.1891318,
          34.57402759,
          38.95246252,
          34.48718475,
          36.1704942,
          37.02715036,
          36.88214908,
          37.31770495,
          37.1280395,
          36.1553362,
          38.38195597,
          37.86921694,
          35.56543624,
          36.04620352,
          38.91874854,
          37.19936753,
          37.32981863,
          36.51734612,
          37.30596142,
          38.31564796,
          36.68836654,
          37.05261631,
          35.56917032,
          38.50588333,
          36.99529017,
          35.18912244,
          38.7756653,
          36.98504142,
          35.93804523,
          36.7290294,
          37.6269068,
          38.79123469,
          37.63731096,
          36.9539597,
          37.07437107,
          36.01231723,
          37.14209369,
          36.72527683,
          36.39368386,
          36.683393,
          37.86144726,
          36.45689841,
          37.23984661,
          39.67259096,
          37.02226899,
          38.42286529,
          38.40137369,
          36.61119878,
          35.63211222,
          36.30854529,
          36.35250277,
          37.02347924,
          36.08964366,
          39.24096484,
          37.18144731,
          37.30536188,
          36.83153585,
          36.97937237,
          35.90675637,
          37.64583879,
          35.45679815,
          35.63395395,
          36.48632507,
          37.80550943,
          37.68028761,
          37.68387537,
          37.64780806,
          36.83936583,
          36.80837606,
          37.72236711,
          36.32214092,
          35.7661535,
          34.7797505,
          37.03427958,
          36.86218335,
          37.42527868,
          36.83865679,
          35.26149812,
          37.21115258,
          36.92976156,
          38.40632901,
          37.67232248,
          34.64980005,
          36.36684325,
          37.48704925,
          36.67395274,
          36.59928909,
          36.37827101,
          38.86023443,
          36.16646339,
          37.0716432,
          36.29889308,
          38.68258378,
          36.16604163,
          36.87502581,
          38.1265198,
          35.76932963,
          35.53602453,
          36.07455114,
          37.19842782,
          36.8745436,
          36.35523488,
          36.53409567,
          36.0586476,
          38.18776368,
          37.13312676,
          37.68487728,
          36.81293413,
          37.83544773,
          35.53914243,
          37.96597162,
          36.4179848,
          37.19026771,
          38.33257633,
          36.84008573,
          35.77101619
         ],
         "z": [
          587.951054,
          392.2049334,
          487.5475049,
          581.852344,
          599.406092,
          637.1024479,
          521.5721748,
          549.9041461,
          570.200409,
          427.1993849,
          492.6060127,
          522.3374046,
          408.6403511,
          573.4158673,
          470.4527333,
          461.7807422,
          457.8476959,
          407.7045475,
          452.3156755,
          605.0610388,
          534.7057438,
          419.9387748,
          436.5156057,
          519.3409891,
          700.9170916,
          423.1799917,
          619.8956399,
          486.8389348,
          529.5376653,
          554.7220838,
          497.5866713,
          447.6879065,
          588.7126055,
          491.0732237,
          507.4418323,
          521.8835732,
          347.7769266,
          490.7386321,
          478.1703341,
          537.8461953,
          532.7517876,
          501.8744303,
          591.1971782,
          547.2443434,
          448.2298292,
          549.8605905,
          593.915003,
          563.6728734,
          479.7319491,
          416.3583536,
          725.5848141,
          442.6672517,
          384.6265716,
          451.4574469,
          522.4041413,
          483.673308,
          520.8987945,
          453.1695024,
          496.6507081,
          547.3651406,
          616.851523,
          507.212569,
          613.5993234,
          483.1597208,
          540.2634004,
          765.5184619,
          553.6015347,
          469.3108615,
          408.6201878,
          451.5756852,
          444.9665517,
          595.8228367,
          418.1500811,
          534.7771881,
          578.2416051,
          478.7193569,
          444.2859075,
          544.7798637,
          488.7860611,
          475.7590678,
          489.812488,
          462.8976362,
          596.4301726,
          338.3198626,
          533.5149353,
          536.7718994,
          487.379306,
          473.7289665,
          547.1259317,
          505.1133435,
          449.0703194,
          611.0000251,
          515.8288149,
          439.0747667,
          514.0889577,
          543.3401663,
          521.1429518,
          614.7153338,
          507.3900618,
          495.2994425,
          518.064558,
          390.103273,
          420.7376732,
          492.1050524,
          410.0696111,
          497.5136833,
          494.5518611,
          378.3309069,
          570.4517259,
          549.0082269,
          459.2851235,
          492.9450531,
          424.7626355,
          422.4267759,
          642.1015787,
          413.3717831,
          479.2310929,
          593.0772413,
          506.5473071,
          571.3074949,
          576.3111774,
          576.8025474,
          514.2395207,
          495.1759504,
          514.3365583,
          541.226584,
          516.8315567,
          468.4457372,
          548.2803202,
          431.6177338,
          552.9403455,
          573.3062223,
          452.627255,
          542.7115581,
          407.8040306,
          482.3535703,
          529.2300901,
          433.0487691,
          476.1914133,
          439.9978799,
          448.9332932,
          472.9922467,
          463.923513,
          350.0582002,
          460.0612774,
          505.7711403,
          463.4849954,
          479.7319376,
          424.1854943,
          465.8893127,
          426.775216,
          684.163431,
          555.8925954,
          657.0199239,
          595.8038189,
          503.9783791,
          586.1558702,
          744.2218671,
          512.8253581,
          528.2238094,
          468.9135013,
          357.5914394,
          536.4231045,
          490.2066,
          550.0475806,
          513.4505712,
          497.81193,
          578.9862586,
          506.5363931,
          501.7492333,
          421.9667942,
          439.8912805,
          666.1255917,
          298.7620079,
          465.1766233,
          373.8857237,
          532.7174857,
          554.900783,
          537.7731625,
          501.1002452,
          517.1651356,
          557.5292736,
          493.719193,
          452.1226251,
          577.273455,
          485.9231305,
          425.745092,
          537.2150527,
          524.6379646,
          478.8853913,
          612.3852299,
          476.7667242,
          505.1196375,
          545.9454921,
          434.0216998,
          424.675281,
          352.5501082,
          662.9610878,
          560.5601606,
          467.5019004,
          504.8704324,
          590.5627196,
          443.9656268,
          392.4973992,
          568.7175759,
          712.3963268,
          413.2959992,
          562.0820454,
          412.0129313,
          468.6684656,
          496.5540816,
          548.5185293,
          536.1308969,
          558.4272572,
          357.8637186,
          529.0566632,
          387.3570727,
          528.9336186,
          420.9161595,
          496.9334463,
          519.3729768,
          591.4377356,
          502.4097853,
          604.3348401,
          555.0683941,
          256.6705823,
          547.1109824,
          461.9208769,
          458.3769107,
          436.2834981,
          532.9352188,
          512.5525344,
          630.4227632,
          463.7459811,
          493.1802162,
          501.2091727,
          501.9282649,
          376.3369008,
          421.3266313,
          538.7749335,
          398.1634685,
          571.4710341,
          451.6286105,
          490.6004425,
          591.7810894,
          409.0704721,
          563.4460357,
          647.6194557,
          448.340425,
          518.7864831,
          523.6339351,
          393.857371,
          426.1545477,
          503.3878873,
          482.6024673,
          524.7976276,
          574.6548434,
          574.7472197,
          660.4251843,
          375.3984554,
          640.18774,
          514.0098178,
          376.4968407,
          484.5198091,
          614.7296376,
          567.4750105,
          554.0030934,
          399.9838716,
          479.1728515,
          585.9318443,
          540.9957391,
          628.0478039,
          582.4919237,
          640.7861664,
          446.4186734,
          570.6300981,
          423.3083341,
          616.660286,
          530.3624689,
          442.3631174,
          511.97986,
          560.4437922,
          475.2634237,
          374.2696745,
          463.591418,
          471.6028844,
          626.0186727,
          432.4720613,
          356.6155679,
          467.4278485,
          503.2173931,
          378.4735664,
          584.2183135,
          451.7278633,
          557.634109,
          432.7207178,
          506.42386,
          510.1598173,
          587.5747995,
          282.4712457,
          473.9498574,
          489.9080531,
          541.9722038,
          266.0863409,
          494.6871558,
          689.7876042,
          387.5347163,
          441.8966315,
          604.8413188,
          302.1895478,
          479.6148117,
          506.1323424,
          319.9288698,
          528.309225,
          610.1280331,
          584.105885,
          466.4211988,
          404.8245289,
          564.790969,
          596.516698,
          368.6547849,
          542.4124767,
          478.2621264,
          473.3604956,
          559.199048,
          447.1876443,
          505.2300683,
          557.2526867,
          422.3687366,
          445.0621855,
          442.0644138,
          533.0400602,
          424.2028271,
          498.6355985,
          330.594446,
          443.4418601,
          478.6009159,
          440.0027475,
          357.7831107,
          476.1392469,
          501.1224915,
          592.6884532,
          486.0834255,
          576.0252441,
          442.7228916,
          461.7909591,
          488.3875258,
          593.1564015,
          392.810345,
          443.197221,
          535.4807752,
          533.3965538,
          532.1274491,
          558.9481124,
          508.7719067,
          403.7669021,
          640.5840619,
          461.6282784,
          382.4161079,
          561.8746577,
          444.5761441,
          401.0331352,
          384.3260571,
          527.7829958,
          482.1449969,
          594.2744834,
          502.0925279,
          407.6571788,
          708.9351849,
          531.9615505,
          521.2407802,
          447.3690272,
          385.152338,
          430.5888826,
          418.6027421,
          478.9514048,
          483.7965221,
          538.9419745,
          486.1637991,
          385.0950071,
          527.7837898,
          547.1907494,
          410.6029439,
          583.977802,
          474.5323294,
          414.9350607,
          550.8133677,
          458.7811317,
          407.542168,
          581.3089329,
          546.5566669,
          503.1750852,
          549.1315733,
          482.8309859,
          557.6082621,
          484.8769649,
          669.9871405,
          547.7099886,
          537.8252823,
          408.2169018,
          663.0748176,
          506.3758668,
          528.4193297,
          632.1235881,
          488.270298,
          508.735741,
          411.1869636,
          409.0945262,
          467.8009244,
          512.1658664,
          608.2718166,
          589.0264898,
          444.0538266,
          493.1812614,
          532.7248055,
          275.9184207,
          511.0387861,
          438.417742,
          475.7250679,
          483.5431939,
          663.8036933,
          544.4092722,
          630.1567282,
          461.1122484,
          491.9115051,
          574.4156896,
          530.7667187,
          581.7987977,
          556.2981412,
          502.1327892,
          556.1863689,
          475.0716299,
          486.9470538,
          434.144202,
          304.1355916,
          571.2160048,
          583.0796357,
          445.7498412,
          392.9922559,
          565.9943634,
          499.1401524,
          510.5394217,
          308.5277466,
          561.516532,
          423.4705332,
          513.1531119,
          529.1945189,
          314.4385183,
          478.584286,
          444.582165,
          475.0154071,
          436.7205559,
          521.1953105,
          478.1830597,
          432.4811686,
          438.3037078,
          388.9405488,
          534.7714849,
          537.9157529,
          407.8763782,
          618.8459704,
          502.7710746,
          397.4205841,
          392.2852442,
          689.2356998,
          543.1326263,
          577.7360249,
          436.5807403,
          553.9946736,
          427.3565308,
          424.7287739,
          541.049831,
          469.3831462,
          444.5455497,
          492.5568337,
          535.3216101,
          408.9583359,
          487.5554581,
          487.6462317,
          402.1671222,
          551.0230017,
          497.3895578,
          494.6386098,
          479.2474168,
          462.6565189,
          515.5024797,
          576.4776072,
          357.8579836,
          597.7398789,
          327.3779526,
          510.4013885,
          510.5014785,
          403.8195198,
          627.6033187,
          510.6617922,
          573.8474377,
          529.0490041,
          551.6201455,
          456.4695101,
          497.7786422
         ]
        }
       ],
       "layout": {
        "coloraxis": {
         "colorbar": {
          "title": {
           "text": "Cluster"
          }
         },
         "colorscale": [
          [
           0,
           "#0d0887"
          ],
          [
           0.1111111111111111,
           "#46039f"
          ],
          [
           0.2222222222222222,
           "#7201a8"
          ],
          [
           0.3333333333333333,
           "#9c179e"
          ],
          [
           0.4444444444444444,
           "#bd3786"
          ],
          [
           0.5555555555555556,
           "#d8576b"
          ],
          [
           0.6666666666666666,
           "#ed7953"
          ],
          [
           0.7777777777777778,
           "#fb9f3a"
          ],
          [
           0.8888888888888888,
           "#fdca26"
          ],
          [
           1,
           "#f0f921"
          ]
         ]
        },
        "legend": {
         "itemsizing": "constant",
         "tracegroupgap": 0
        },
        "margin": {
         "t": 60
        },
        "scene": {
         "domain": {
          "x": [
           0,
           1
          ],
          "y": [
           0,
           1
          ]
         },
         "xaxis": {
          "title": {
           "text": "Session Length on App"
          }
         },
         "yaxis": {
          "title": {
           "text": "Session Length on Website"
          }
         },
         "zaxis": {
          "title": {
           "text": "Yearly Expenditure"
          }
         }
        },
        "template": {
         "data": {
          "bar": [
           {
            "error_x": {
             "color": "#2a3f5f"
            },
            "error_y": {
             "color": "#2a3f5f"
            },
            "marker": {
             "line": {
              "color": "#E5ECF6",
              "width": 0.5
             },
             "pattern": {
              "fillmode": "overlay",
              "size": 10,
              "solidity": 0.2
             }
            },
            "type": "bar"
           }
          ],
          "barpolar": [
           {
            "marker": {
             "line": {
              "color": "#E5ECF6",
              "width": 0.5
             },
             "pattern": {
              "fillmode": "overlay",
              "size": 10,
              "solidity": 0.2
             }
            },
            "type": "barpolar"
           }
          ],
          "carpet": [
           {
            "aaxis": {
             "endlinecolor": "#2a3f5f",
             "gridcolor": "white",
             "linecolor": "white",
             "minorgridcolor": "white",
             "startlinecolor": "#2a3f5f"
            },
            "baxis": {
             "endlinecolor": "#2a3f5f",
             "gridcolor": "white",
             "linecolor": "white",
             "minorgridcolor": "white",
             "startlinecolor": "#2a3f5f"
            },
            "type": "carpet"
           }
          ],
          "choropleth": [
           {
            "colorbar": {
             "outlinewidth": 0,
             "ticks": ""
            },
            "type": "choropleth"
           }
          ],
          "contour": [
           {
            "colorbar": {
             "outlinewidth": 0,
             "ticks": ""
            },
            "colorscale": [
             [
              0,
              "#0d0887"
             ],
             [
              0.1111111111111111,
              "#46039f"
             ],
             [
              0.2222222222222222,
              "#7201a8"
             ],
             [
              0.3333333333333333,
              "#9c179e"
             ],
             [
              0.4444444444444444,
              "#bd3786"
             ],
             [
              0.5555555555555556,
              "#d8576b"
             ],
             [
              0.6666666666666666,
              "#ed7953"
             ],
             [
              0.7777777777777778,
              "#fb9f3a"
             ],
             [
              0.8888888888888888,
              "#fdca26"
             ],
             [
              1,
              "#f0f921"
             ]
            ],
            "type": "contour"
           }
          ],
          "contourcarpet": [
           {
            "colorbar": {
             "outlinewidth": 0,
             "ticks": ""
            },
            "type": "contourcarpet"
           }
          ],
          "heatmap": [
           {
            "colorbar": {
             "outlinewidth": 0,
             "ticks": ""
            },
            "colorscale": [
             [
              0,
              "#0d0887"
             ],
             [
              0.1111111111111111,
              "#46039f"
             ],
             [
              0.2222222222222222,
              "#7201a8"
             ],
             [
              0.3333333333333333,
              "#9c179e"
             ],
             [
              0.4444444444444444,
              "#bd3786"
             ],
             [
              0.5555555555555556,
              "#d8576b"
             ],
             [
              0.6666666666666666,
              "#ed7953"
             ],
             [
              0.7777777777777778,
              "#fb9f3a"
             ],
             [
              0.8888888888888888,
              "#fdca26"
             ],
             [
              1,
              "#f0f921"
             ]
            ],
            "type": "heatmap"
           }
          ],
          "heatmapgl": [
           {
            "colorbar": {
             "outlinewidth": 0,
             "ticks": ""
            },
            "colorscale": [
             [
              0,
              "#0d0887"
             ],
             [
              0.1111111111111111,
              "#46039f"
             ],
             [
              0.2222222222222222,
              "#7201a8"
             ],
             [
              0.3333333333333333,
              "#9c179e"
             ],
             [
              0.4444444444444444,
              "#bd3786"
             ],
             [
              0.5555555555555556,
              "#d8576b"
             ],
             [
              0.6666666666666666,
              "#ed7953"
             ],
             [
              0.7777777777777778,
              "#fb9f3a"
             ],
             [
              0.8888888888888888,
              "#fdca26"
             ],
             [
              1,
              "#f0f921"
             ]
            ],
            "type": "heatmapgl"
           }
          ],
          "histogram": [
           {
            "marker": {
             "pattern": {
              "fillmode": "overlay",
              "size": 10,
              "solidity": 0.2
             }
            },
            "type": "histogram"
           }
          ],
          "histogram2d": [
           {
            "colorbar": {
             "outlinewidth": 0,
             "ticks": ""
            },
            "colorscale": [
             [
              0,
              "#0d0887"
             ],
             [
              0.1111111111111111,
              "#46039f"
             ],
             [
              0.2222222222222222,
              "#7201a8"
             ],
             [
              0.3333333333333333,
              "#9c179e"
             ],
             [
              0.4444444444444444,
              "#bd3786"
             ],
             [
              0.5555555555555556,
              "#d8576b"
             ],
             [
              0.6666666666666666,
              "#ed7953"
             ],
             [
              0.7777777777777778,
              "#fb9f3a"
             ],
             [
              0.8888888888888888,
              "#fdca26"
             ],
             [
              1,
              "#f0f921"
             ]
            ],
            "type": "histogram2d"
           }
          ],
          "histogram2dcontour": [
           {
            "colorbar": {
             "outlinewidth": 0,
             "ticks": ""
            },
            "colorscale": [
             [
              0,
              "#0d0887"
             ],
             [
              0.1111111111111111,
              "#46039f"
             ],
             [
              0.2222222222222222,
              "#7201a8"
             ],
             [
              0.3333333333333333,
              "#9c179e"
             ],
             [
              0.4444444444444444,
              "#bd3786"
             ],
             [
              0.5555555555555556,
              "#d8576b"
             ],
             [
              0.6666666666666666,
              "#ed7953"
             ],
             [
              0.7777777777777778,
              "#fb9f3a"
             ],
             [
              0.8888888888888888,
              "#fdca26"
             ],
             [
              1,
              "#f0f921"
             ]
            ],
            "type": "histogram2dcontour"
           }
          ],
          "mesh3d": [
           {
            "colorbar": {
             "outlinewidth": 0,
             "ticks": ""
            },
            "type": "mesh3d"
           }
          ],
          "parcoords": [
           {
            "line": {
             "colorbar": {
              "outlinewidth": 0,
              "ticks": ""
             }
            },
            "type": "parcoords"
           }
          ],
          "pie": [
           {
            "automargin": true,
            "type": "pie"
           }
          ],
          "scatter": [
           {
            "fillpattern": {
             "fillmode": "overlay",
             "size": 10,
             "solidity": 0.2
            },
            "type": "scatter"
           }
          ],
          "scatter3d": [
           {
            "line": {
             "colorbar": {
              "outlinewidth": 0,
              "ticks": ""
             }
            },
            "marker": {
             "colorbar": {
              "outlinewidth": 0,
              "ticks": ""
             }
            },
            "type": "scatter3d"
           }
          ],
          "scattercarpet": [
           {
            "marker": {
             "colorbar": {
              "outlinewidth": 0,
              "ticks": ""
             }
            },
            "type": "scattercarpet"
           }
          ],
          "scattergeo": [
           {
            "marker": {
             "colorbar": {
              "outlinewidth": 0,
              "ticks": ""
             }
            },
            "type": "scattergeo"
           }
          ],
          "scattergl": [
           {
            "marker": {
             "colorbar": {
              "outlinewidth": 0,
              "ticks": ""
             }
            },
            "type": "scattergl"
           }
          ],
          "scattermapbox": [
           {
            "marker": {
             "colorbar": {
              "outlinewidth": 0,
              "ticks": ""
             }
            },
            "type": "scattermapbox"
           }
          ],
          "scatterpolar": [
           {
            "marker": {
             "colorbar": {
              "outlinewidth": 0,
              "ticks": ""
             }
            },
            "type": "scatterpolar"
           }
          ],
          "scatterpolargl": [
           {
            "marker": {
             "colorbar": {
              "outlinewidth": 0,
              "ticks": ""
             }
            },
            "type": "scatterpolargl"
           }
          ],
          "scatterternary": [
           {
            "marker": {
             "colorbar": {
              "outlinewidth": 0,
              "ticks": ""
             }
            },
            "type": "scatterternary"
           }
          ],
          "surface": [
           {
            "colorbar": {
             "outlinewidth": 0,
             "ticks": ""
            },
            "colorscale": [
             [
              0,
              "#0d0887"
             ],
             [
              0.1111111111111111,
              "#46039f"
             ],
             [
              0.2222222222222222,
              "#7201a8"
             ],
             [
              0.3333333333333333,
              "#9c179e"
             ],
             [
              0.4444444444444444,
              "#bd3786"
             ],
             [
              0.5555555555555556,
              "#d8576b"
             ],
             [
              0.6666666666666666,
              "#ed7953"
             ],
             [
              0.7777777777777778,
              "#fb9f3a"
             ],
             [
              0.8888888888888888,
              "#fdca26"
             ],
             [
              1,
              "#f0f921"
             ]
            ],
            "type": "surface"
           }
          ],
          "table": [
           {
            "cells": {
             "fill": {
              "color": "#EBF0F8"
             },
             "line": {
              "color": "white"
             }
            },
            "header": {
             "fill": {
              "color": "#C8D4E3"
             },
             "line": {
              "color": "white"
             }
            },
            "type": "table"
           }
          ]
         },
         "layout": {
          "annotationdefaults": {
           "arrowcolor": "#2a3f5f",
           "arrowhead": 0,
           "arrowwidth": 1
          },
          "autotypenumbers": "strict",
          "coloraxis": {
           "colorbar": {
            "outlinewidth": 0,
            "ticks": ""
           }
          },
          "colorscale": {
           "diverging": [
            [
             0,
             "#8e0152"
            ],
            [
             0.1,
             "#c51b7d"
            ],
            [
             0.2,
             "#de77ae"
            ],
            [
             0.3,
             "#f1b6da"
            ],
            [
             0.4,
             "#fde0ef"
            ],
            [
             0.5,
             "#f7f7f7"
            ],
            [
             0.6,
             "#e6f5d0"
            ],
            [
             0.7,
             "#b8e186"
            ],
            [
             0.8,
             "#7fbc41"
            ],
            [
             0.9,
             "#4d9221"
            ],
            [
             1,
             "#276419"
            ]
           ],
           "sequential": [
            [
             0,
             "#0d0887"
            ],
            [
             0.1111111111111111,
             "#46039f"
            ],
            [
             0.2222222222222222,
             "#7201a8"
            ],
            [
             0.3333333333333333,
             "#9c179e"
            ],
            [
             0.4444444444444444,
             "#bd3786"
            ],
            [
             0.5555555555555556,
             "#d8576b"
            ],
            [
             0.6666666666666666,
             "#ed7953"
            ],
            [
             0.7777777777777778,
             "#fb9f3a"
            ],
            [
             0.8888888888888888,
             "#fdca26"
            ],
            [
             1,
             "#f0f921"
            ]
           ],
           "sequentialminus": [
            [
             0,
             "#0d0887"
            ],
            [
             0.1111111111111111,
             "#46039f"
            ],
            [
             0.2222222222222222,
             "#7201a8"
            ],
            [
             0.3333333333333333,
             "#9c179e"
            ],
            [
             0.4444444444444444,
             "#bd3786"
            ],
            [
             0.5555555555555556,
             "#d8576b"
            ],
            [
             0.6666666666666666,
             "#ed7953"
            ],
            [
             0.7777777777777778,
             "#fb9f3a"
            ],
            [
             0.8888888888888888,
             "#fdca26"
            ],
            [
             1,
             "#f0f921"
            ]
           ]
          },
          "colorway": [
           "#636efa",
           "#EF553B",
           "#00cc96",
           "#ab63fa",
           "#FFA15A",
           "#19d3f3",
           "#FF6692",
           "#B6E880",
           "#FF97FF",
           "#FECB52"
          ],
          "font": {
           "color": "#2a3f5f"
          },
          "geo": {
           "bgcolor": "white",
           "lakecolor": "white",
           "landcolor": "#E5ECF6",
           "showlakes": true,
           "showland": true,
           "subunitcolor": "white"
          },
          "hoverlabel": {
           "align": "left"
          },
          "hovermode": "closest",
          "mapbox": {
           "style": "light"
          },
          "paper_bgcolor": "white",
          "plot_bgcolor": "#E5ECF6",
          "polar": {
           "angularaxis": {
            "gridcolor": "white",
            "linecolor": "white",
            "ticks": ""
           },
           "bgcolor": "#E5ECF6",
           "radialaxis": {
            "gridcolor": "white",
            "linecolor": "white",
            "ticks": ""
           }
          },
          "scene": {
           "xaxis": {
            "backgroundcolor": "#E5ECF6",
            "gridcolor": "white",
            "gridwidth": 2,
            "linecolor": "white",
            "showbackground": true,
            "ticks": "",
            "zerolinecolor": "white"
           },
           "yaxis": {
            "backgroundcolor": "#E5ECF6",
            "gridcolor": "white",
            "gridwidth": 2,
            "linecolor": "white",
            "showbackground": true,
            "ticks": "",
            "zerolinecolor": "white"
           },
           "zaxis": {
            "backgroundcolor": "#E5ECF6",
            "gridcolor": "white",
            "gridwidth": 2,
            "linecolor": "white",
            "showbackground": true,
            "ticks": "",
            "zerolinecolor": "white"
           }
          },
          "shapedefaults": {
           "line": {
            "color": "#2a3f5f"
           }
          },
          "ternary": {
           "aaxis": {
            "gridcolor": "white",
            "linecolor": "white",
            "ticks": ""
           },
           "baxis": {
            "gridcolor": "white",
            "linecolor": "white",
            "ticks": ""
           },
           "bgcolor": "#E5ECF6",
           "caxis": {
            "gridcolor": "white",
            "linecolor": "white",
            "ticks": ""
           }
          },
          "title": {
           "x": 0.05
          },
          "xaxis": {
           "automargin": true,
           "gridcolor": "white",
           "linecolor": "white",
           "ticks": "",
           "title": {
            "standoff": 15
           },
           "zerolinecolor": "white",
           "zerolinewidth": 2
          },
          "yaxis": {
           "automargin": true,
           "gridcolor": "white",
           "linecolor": "white",
           "ticks": "",
           "title": {
            "standoff": 15
           },
           "zerolinecolor": "white",
           "zerolinewidth": 2
          }
         }
        }
       }
      },
      "text/html": [
       "<div>                            <div id=\"d5427318-3036-4364-8c35-f11d77c1ff10\" class=\"plotly-graph-div\" style=\"height:525px; width:100%;\"></div>            <script type=\"text/javascript\">                require([\"plotly\"], function(Plotly) {                    window.PLOTLYENV=window.PLOTLYENV || {};                                    if (document.getElementById(\"d5427318-3036-4364-8c35-f11d77c1ff10\")) {                    Plotly.newPlot(                        \"d5427318-3036-4364-8c35-f11d77c1ff10\",                        [{\"hovertemplate\":\"Session Length on App=%{x}<br>Session Length on Website=%{y}<br>Yearly Expenditure=%{z}<br>Duration of Subscription in Years=%{marker.size}<br>Cluster=%{marker.color}<extra></extra>\",\"legendgroup\":\"\",\"marker\":{\"color\":[0,2,1,0,0,0,1,1,0,2,1,1,2,0,1,1,1,2,2,0,1,2,2,1,0,2,0,1,1,0,1,2,0,1,1,1,2,1,1,1,1,1,0,1,2,1,0,0,1,2,0,2,2,2,1,1,1,2,1,1,0,1,0,1,1,0,0,1,2,2,2,0,2,1,0,1,2,1,1,1,1,1,0,2,1,1,1,1,1,1,2,0,1,2,1,1,1,0,1,1,1,2,2,1,2,1,1,2,0,1,1,1,2,2,0,2,1,0,1,0,0,0,1,1,1,1,1,1,1,2,0,0,2,1,2,1,1,2,1,2,2,1,1,2,1,1,1,1,2,1,2,0,0,0,0,1,0,0,1,1,1,2,1,1,1,1,1,0,1,1,2,2,0,2,1,2,1,0,1,1,1,0,1,2,0,1,2,1,1,1,0,1,1,1,2,2,2,0,0,1,1,0,2,2,0,0,2,0,2,1,1,1,1,0,2,1,2,1,2,1,1,0,1,0,0,2,1,1,1,2,1,1,0,1,1,1,1,2,2,1,2,0,2,1,0,2,0,0,2,1,1,2,2,1,1,1,0,0,0,2,0,1,2,1,0,0,0,2,1,0,1,0,0,0,2,0,2,0,1,2,1,0,1,2,1,1,0,2,2,1,1,2,0,2,0,2,1,1,0,2,1,1,1,2,1,0,2,2,0,2,1,1,2,1,0,0,1,2,0,0,2,1,1,1,0,2,1,0,2,2,2,1,2,1,2,2,1,2,2,1,1,0,1,0,2,1,1,0,2,2,1,1,1,0,1,2,0,1,2,0,2,2,2,1,1,0,1,2,0,1,1,2,2,2,2,1,1,1,1,2,1,1,2,0,1,2,1,1,2,0,1,1,1,1,0,1,0,1,1,2,0,1,1,0,1,1,2,2,1,1,0,0,2,1,1,2,1,2,1,1,0,1,0,1,1,0,1,0,0,1,0,1,1,2,2,0,0,2,2,0,1,1,2,0,2,1,1,2,1,2,1,2,1,1,2,2,2,1,1,2,0,1,2,2,0,1,0,2,0,2,2,1,1,2,1,1,2,1,1,2,1,1,1,1,1,1,0,2,0,2,1,1,2,0,1,0,1,1,1,1],\"coloraxis\":\"coloraxis\",\"opacity\":0.8,\"size\":[4.082620633,2.664034182,4.104543202,3.120178783,4.446308318,5.493507201,4.685017247,4.434273435,3.273433578,3.202806072,2.482607771,3.713209203,4.046423164,3.918541839,2.494543647,3.357846842,3.136132716,2.420806161,1.516575581,4.06454855,4.599937358,1.55915194,2.245147787,3.919302309,5.705153971,2.721735992,4.648199316,2.996364526,3.923488746,4.74257752,3.062368145,3.471413452,4.343062915,2.820097234,4.124585297,3.649286158,1.847370423,3.452388583,4.650491269,4.222436225,4.671275461,4.646119977,4.214495086,4.64325855,2.258686387,3.663105491,3.876875177,4.113226123,3.202531199,3.198399272,5.976768126,2.952668958,2.094891706,3.855471685,2.87459691,3.392050489,2.995761183,3.315224754,3.471919137,3.970555628,4.639320332,5.081210092,4.802630631,3.414688423,3.462298847,5.377593584,4.001786346,3.43959056,2.779520719,3.552649767,2.602287112,4.694322274,3.401522345,3.8515788,3.258112883,3.120568915,2.837943164,4.470282584,4.442054329,3.164943995,3.751734552,3.159754444,4.130562809,1.914089924,4.396651901,5.113319475,2.669941624,3.366463743,4.571213024,3.917451119,2.476139051,4.125584363,3.997255378,1.36267408,4.193324636,3.8710034,4.081802695,4.252006106,3.911708668,3.021671822,3.184618662,2.877224878,2.586967985,2.969640227,3.428859904,2.926940235,3.781823039,3.004742536,3.854473856,3.318822279,3.361814624,3.722561173,3.54354705,2.789461516,5.485976734,2.594189721,2.753424169,5.004820577,3.873337569,3.798725319,3.292797663,4.716104987,4.01872661,3.63770128,3.834169667,4.531986607,4.106055152,3.218265385,3.283663455,2.924020725,3.905250309,4.920318406,2.473596121,4.131276648,1.767730708,2.724108202,3.89711586,2.491671541,3.863425442,3.5786339,3.958892264,3.25174177,3.914384667,1.443515075,2.910037917,3.345570976,3.089527782,4.514122441,1.825884669,3.993656513,2.652158305,6.401228838,5.391275125,6.076653638,3.864860739,2.941410754,5.084861309,6.922689335,3.60439856,3.78493211,3.309182328,0.968622116,3.768561963,3.585160635,4.520353377,3.6758488,2.873007509,4.055775962,3.015175299,4.717102513,2.926396449,2.361086947,4.968742674,0.80151572,3.669225611,1.715777167,4.773503047,4.087837273,4.13175504,3.442799202,4.72402744,3.230973843,2.972271382,3.182329732,4.806349619,3.620364988,3.261324745,3.597459969,4.789201624,3.316464745,4.632460946,3.308443001,4.01598664,4.369366794,2.566639844,3.519032434,1.503854421,5.039955264,4.478712608,3.361612985,1.920715478,4.330714462,3.811248171,3.088763958,4.541695257,5.066696864,3.107468683,4.746989703,3.09182687,3.195625776,3.850279639,3.97452248,3.843848921,2.90900846,1.139093538,2.685284836,3.108911449,4.852842407,2.307552421,4.835528667,3.678589399,5.254708926,3.89289148,4.389455226,4.003325039,0.789519908,4.403369831,2.64859677,2.367848224,3.050712973,3.641497162,3.397363093,4.297686524,3.803364999,2.633419989,3.634093727,3.467014066,1.494310895,2.267251114,5.023934201,2.47175067,4.297737482,2.436958876,3.656983927,5.000243361,2.412830961,5.314354141,4.077775098,3.275070681,3.634996006,3.982471513,3.287701824,2.313349885,3.557813698,3.350279288,2.907094935,3.792711955,4.029453828,4.978475793,2.699562055,3.930615327,3.456233824,2.18201697,2.709526627,4.594116865,4.25698329,3.784273087,1.623419609,3.41450624,3.606086889,3.275733705,5.007271987,3.371258113,5.453969475,3.755869389,4.664258497,3.806670949,5.049927475,2.871947536,3.236732814,3.086337272,4.559699083,3.010209778,1.809229592,3.5942951,3.049195744,3.634340224,1.482359644,2.921350141,1.810079876,3.373104674,2.214797519,5.454463278,3.201801722,4.729484542,3.205529765,3.802511439,4.116340467,5.462500764,1.481616627,3.771420132,2.898299578,3.569046516,1.084585303,3.023474446,5.566384892,2.39516813,3.504833486,5.226687713,1.838210702,3.363411394,2.957448757,2.083814192,3.680847338,4.693732058,4.008352235,2.532044062,2.87098691,3.515688256,4.069916619,1.200483857,3.229450904,4.086566338,4.019470352,4.20590389,2.018194629,4.243812817,4.626075292,3.002957023,1.823595183,4.078308002,3.689916615,2.190132185,3.206756698,1.977007128,3.349245383,3.53286158,2.974736815,2.61816531,2.804013693,2.964497876,4.350887844,3.872432042,4.615426307,2.727209454,3.53712388,3.12650949,5.137816746,3.128638856,3.178952405,3.827375915,4.808320373,4.048510087,4.543332413,3.481062133,2.627624971,4.794312263,2.761861926,2.159676023,4.195614413,2.139403004,3.434559723,2.868428182,3.137068975,3.525806412,5.038107494,3.612239152,2.895075163,5.705940717,5.047022551,4.778973636,2.966558885,2.668919773,3.620354589,4.238296188,2.479339823,3.506967574,3.310150347,3.535802468,1.13047696,3.228717686,3.345922321,3.215666827,3.790552137,3.561215271,2.931619535,3.046540621,2.739200467,2.783963128,4.330407444,3.416209978,3.336339382,4.662845304,3.222080767,3.772969025,3.42014953,6.115198946,3.488029991,4.082855279,2.829699575,5.405406467,3.45175071,2.935577274,4.750360071,3.531402303,3.90447938,2.39907979,2.847709026,3.781703565,4.349778419,4.574287716,4.620416385,3.0130325,4.791108745,4.334001444,1.428823877,4.137000388,2.910530822,3.982462319,3.701229217,5.840505876,4.560396067,4.490002066,3.859817999,3.046620189,4.652854446,4.02210291,3.969417759,3.738225173,3.3766875,4.595522709,2.223993458,4.288486771,2.117382542,0.936497597,3.762070443,4.000963586,3.532517165,3.535088428,4.158214653,3.549036057,4.129254688,2.252445963,4.051382465,3.072076141,4.331863027,3.937862643,0.26990109,3.27946626,2.571777835,3.826030618,2.402453833,4.027813842,3.629339915,3.189609942,3.393975043,2.57494847,3.47202138,4.198349061,2.086348147,3.605933918,4.03438613,2.32055025,3.491093337,5.320093864,3.130538462,4.985204971,1.726962043,3.701622287,1.785173945,3.02267576,4.041244969,3.139526935,2.562818811,2.379076497,4.301996499,2.094761669,4.089330841,3.516051017,1.820810618,4.183143662,3.393902788,4.426364081,2.905238361,2.782757828,3.447017793,4.712233579,1.228112423,4.019051427,1.707389729,3.163091931,3.447092896,2.208813678,5.41235784,2.768851943,3.746572973,3.576525915,4.958264473,2.336484668,2.735159567],\"sizemode\":\"area\",\"sizeref\":0.007691877038888889,\"symbol\":\"circle\"},\"mode\":\"markers\",\"name\":\"\",\"scene\":\"scene\",\"showlegend\":false,\"x\":[12.65565115,11.10946073,11.33027806,13.71751367,12.79518855,12.02692534,11.36634831,12.35195897,13.38623528,11.81412829,13.33897545,11.584783,10.9612984,12.95922609,13.14872569,12.63660605,11.73386169,12.01319469,14.71538754,13.98959256,11.36549203,12.8779837,13.37856278,11.65757592,12.8936695,11.76581265,12.78389178,13.00781942,11.98204499,11.96502,12.30541781,10.86916381,13.38749211,13.10450724,11.63489325,11.9363865,11.7550237,11.98441752,9.954975969,12.48901322,11.73310622,10.63456132,12.50752537,11.52987821,13.41493474,12.17052542,13.14655143,12.98851015,11.86412636,11.39806419,13.85806246,10.95679097,10.32011626,9.984514397,12.64519514,11.58865542,13.76153285,10.56829469,11.83228622,12.06415663,12.4955916,9.607314688,13.72862718,11.67006592,13.27631301,15.12699429,12.69578975,11.83547609,11.30623234,11.18753891,11.88749413,12.22893471,10.67465347,12.81711309,13.58780608,12.23805735,11.55182117,11.43337993,10.88956686,11.92884209,12.59567131,10.94725858,13.89808199,10.87555955,10.3380727,11.63466822,12.51766629,10.60772387,12.8288934,12.06881608,12.53035737,13.5162843,11.66226343,13.66474788,11.83023109,13.29114305,11.94234087,13.34991294,12.02011209,12.08409173,13.41075918,11.28193107,11.44890154,12.59542035,10.99422392,13.08550576,12.19047429,10.71914974,12.93155027,13.45212896,12.14937549,12.17833133,11.01048213,11.60253219,12.73221159,11.22336889,12.01102188,11.7259101,12.08930957,13.06863858,12.85499037,11.56402237,11.1133299,12.80988347,11.76117233,12.57989417,11.95792306,10.65179378,12.75207661,11.54083244,11.92439492,12.42413041,11.81058676,12.75916898,11.85189083,12.70368793,12.21525242,11.281445,10.73536292,10.96313178,11.73509455,12.41896198,10.53730754,11.9192424,11.91141556,12.488067,12.38069498,10.48050683,12.29651768,10.8616042,10.71635514,12.38718417,10.98483589,12.96576148,12.05026723,13.45772494,12.44304789,12.20729849,11.58631953,11.37808709,12.3643416,12.39943608,12.54248105,13.28043224,11.79588668,12.71803917,12.03964784,12.47445545,13.16002004,11.05232365,10.63676108,13.44340599,13.28303287,11.7477317,10.85960853,11.69168613,11.54876144,11.72400223,12.17857308,12.31984506,11.08436084,13.17777453,12.83280284,11.509048,11.85766344,12.29336584,10.93325228,13.33283928,10.90255623,12.27698171,12.03880824,11.72447386,11.2026699,13.37806333,11.38861262,10.77107406,11.81857176,13.80879868,11.65983284,13.10010954,13.06789568,12.49432293,11.34003593,11.19966096,11.33248778,13.9194944,11.03135834,11.08458409,10.54264542,11.79779551,12.44261655,12.10454243,12.37849022,13.72245368,12.72590932,13.6851189,10.01258337,11.43553387,12.35460708,10.74853366,11.59187167,11.23650676,11.10945633,12.11494496,11.86648121,10.25654903,12.16859647,13.08535689,13.01337563,10.98397673,13.10515852,12.14474854,13.90991551,11.39520943,13.03356618,11.62277717,12.6007504,13.18791099,13.26676035,11.75234317,11.56811634,12.63857212,11.38864458,11.8229833,12.72567737,11.20115977,11.34726361,14.22097911,11.54627576,11.91763618,12.27605698,10.13171246,12.02694222,13.1722875,12.32629139,13.89131342,12.93092854,11.37925718,14.06938234,10.80489056,14.42649105,13.04124459,11.7397438,12.49105874,12.89237451,11.66886651,11.77777204,12.13879388,12.22296745,13.4023319,12.95627661,12.88412462,13.3254691,12.15858523,11.22654566,12.46113544,9.846124909,13.32541219,13.67724584,11.64496955,13.48500899,11.62099651,13.01445915,11.46698422,11.68490419,12.09396636,14.32565494,12.91484663,9.82440177,12.80775183,13.05827793,10.5345535,11.14343308,10.98280553,11.15396605,11.94717532,11.470565,11.03785041,11.1673569,11.56293625,12.22772828,13.18681287,13.39445179,11.85139874,12.26650384,13.45922229,11.79297182,10.98574015,12.63755716,8.508152176,11.65659203,11.96689808,11.80298578,12.67740144,13.03253498,12.44761745,12.23565925,10.97316208,13.66576979,13.39112018,12.96832561,12.96889313,10.73213134,10.95235338,12.60888879,13.03951103,10.99968366,13.27895623,10.62794923,13.18518117,11.35104901,12.95481145,11.73704064,11.8873453,10.75713093,11.61265077,11.97906148,12.46114744,10.07946345,12.58924056,14.28801459,11.9171157,11.40964462,12.81539265,11.67322925,10.61053652,12.50654819,11.30446231,10.88692118,12.09588949,12.69266143,11.38677555,10.72841854,11.93689516,12.7179951,10.96980287,13.42054574,11.85468192,11.91885971,13.14966956,12.6853939,10.34787695,9.316289204,12.58154773,11.76444759,12.64420212,11.83211223,10.44123506,12.72971951,9.477777608,10.16317906,11.60899794,11.26825923,11.16315954,10.1016322,12.76153128,12.05534016,11.93593497,12.45120001,12.28446707,12.78217179,12.96030713,9.953995006,13.13002166,11.52056679,10.97255431,13.53191346,12.03950237,10.94206962,12.66419262,11.73066139,11.91867031,11.51494907,12.4181132,13.88727541,12.84649907,10.88982828,12.91457009,11.56852664,11.97175079,13.07869244,11.95642648,13.25273709,13.09353728,12.52747174,11.23596895,12.07483017,12.04533198,11.23074331,11.9078441,13.05221039,13.00436201,11.52352268,10.31471792,12.43312853,10.74518855,11.01675564,12.21685469,12.32914702,10.80696607,12.1351014,12.94155573,13.30029936,10.39845771,11.88780042,11.5914397,13.27147504,12.9882206,14.03986726,11.90650776,11.1371403,12.90266489,12.38651626,11.82272175,10.98576379,14.13289346,11.91221048,11.48158715,10.04731474,12.42873693,11.96598027,11.12136606,8.668349517,12.50421981,12.13250911,11.73299146,11.94659088,12.55610762,12.48070152,12.59419407,10.94684194,11.48419869,11.12087087,10.97139243,11.58894858,10.70664152,11.07625934,12.95326254,10.5724666,11.65803681,13.59251266,11.37176736,11.23341495,10.29035077,14.12178384,12.41554196,10.77024892,12.66439052,12.66780888,13.97018107,11.50925345,11.40577045,12.26371768,12.7107013,13.47157767,11.18680872,11.24681261,12.35763811,11.76432596,11.7618838,11.55030011,12.48266992,11.73136429,12.21407375,11.90375668,12.22248394,12.00591637,11.91374515,12.12540197,11.30555143,11.60899707,11.6930582,11.20156988,12.62543264,13.35063168,13.56615961,11.69573629,11.49940906,12.39142299,12.41880832],\"y\":[39.57766802,37.26895887,37.11059744,36.72128268,37.5366533,34.47687763,36.68377615,37.37335886,37.53449734,37.14516822,37.22580613,37.08792607,37.42021558,36.1446667,36.61995708,36.21376309,34.89409275,38.38513659,38.24411459,37.1905038,37.60779252,37.44102134,38.73400629,36.77260376,37.63575588,37.73852495,36.43064962,37.85177917,35.29308775,37.27781174,36.16364817,35.62244242,35.69417499,38.87804051,35.36862633,38.768641,36.76572236,37.0443614,37.38831487,36.37147981,37.53429101,37.49669015,37.14286198,36.88808605,36.11243501,39.13109673,37.33544589,36.46200326,36.58272777,36.5944567,37.78026469,37.26687826,37.4534051,35.9334493,38.46832111,35.25224202,39.25293095,36.17312563,36.81401056,37.27122169,38.05260975,36.49399255,37.99702801,37.40874848,36.60077705,37.15762409,35.35844431,36.37506611,37.68040323,40.00518164,36.2650007,36.15719115,38.00658318,37.03153922,38.26035344,38.73086174,36.62883429,35.89243163,38.21257083,36.91463331,39.60037647,35.88399439,37.05891282,37.78114256,36.15725594,36.18253928,37.15192066,36.81909551,36.95161668,36.1050005,37.8752191,36.77312349,36.05024078,37.72438616,36.6338567,38.63362565,38.06341359,37.82739423,39.07440021,35.89035796,35.99048895,37.38531755,37.58019043,36.2620318,38.07445242,35.84582711,36.15246209,37.71250864,38.16643556,38.50300885,37.32533422,37.71598618,38.41504158,37.30968877,35.60082055,37.69230086,36.70105232,35.9990993,38.3099079,37.54052036,35.00748226,37.67321037,37.38794554,36.54966799,37.57016384,37.09326487,36.63465233,37.14600653,36.71413784,37.52642103,37.24503247,38.94882503,37.41413357,36.59911235,37.42454792,36.10091445,36.59436168,36.49440648,37.45837473,37.32728269,36.59937399,35.97765171,35.7305524,39.29404346,38.2747022,36.51838359,37.23200331,37.33866962,36.95155521,36.58443762,38.30720401,37.4311591,37.39649748,36.9663889,36.95964319,37.23880567,37.32784804,33.91384725,39.09462703,38.30447119,38.03910939,35.01280603,38.3113649,36.93615938,37.65861691,37.66110668,38.92408705,35.03785616,36.40774745,37.63300942,37.57883524,36.87831537,35.90729843,36.93988205,38.83567008,37.48091198,38.57651555,36.81385766,35.67425603,37.81915511,37.95968432,38.85604171,37.67924462,37.25305774,36.08693433,37.0646212,36.54550623,37.96439033,36.09424195,38.23260623,37.63529941,37.1531516,35.49396408,36.33780003,37.90913872,37.27863979,37.10203133,37.42676892,37.28139283,35.90772143,36.67822227,36.04545942,37.03951365,38.6887091,35.4598628,37.95201319,38.25297827,36.77601658,35.5338635,37.7773658,38.13171203,36.05964598,38.76429717,35.77311639,36.5446641,34.89198327,38.35495987,36.22355746,37.12234521,35.73870747,37.7436197,37.67502073,38.58585476,36.28872395,37.71777057,36.14390846,37.07361617,37.6056528,36.65127792,37.95148946,35.57484167,37.25803146,37.79223754,37.33281446,37.07679516,35.96889569,37.37011822,37.06708997,36.9711951,38.57360523,36.90937821,36.09722093,39.08156475,36.94612578,35.96566746,37.68933698,36.32365247,37.52319665,36.94795369,36.84473382,37.19279353,34.84561239,36.13389429,36.19975347,36.67387836,39.22071295,36.3602472,36.63610412,38.99332245,37.37276215,37.3741835,36.65520808,36.85481082,38.23894085,36.5273883,37.34126616,37.97982686,36.85388246,36.82275323,37.29204471,38.65509454,36.22604169,36.76860309,36.57513378,35.66993517,37.74560774,36.87631323,36.89729461,37.7446997,37.02687697,37.55088041,38.41946853,37.78903635,35.67572763,38.7170763,36.62077386,35.72182733,39.06886445,35.74277913,38.55103029,37.26387556,37.03479129,35.94639915,34.81063145,37.24032955,36.19083324,37.06168877,38.61733445,35.62658733,35.97656497,36.98591348,38.0669296,37.80697767,36.92504304,36.57503098,36.33952101,36.25781912,37.36839124,36.51708576,35.46240008,36.54860515,36.54759628,36.31576315,35.62253059,37.87095205,37.53453024,37.27757338,36.60950715,36.90022076,37.19419105,38.29611037,37.33310742,36.14579171,37.64629179,37.22939452,36.31272657,38.44276669,37.38718053,38.04031367,35.92159519,37.08884658,37.10881638,37.93518905,35.86244708,36.59586795,39.2488039,38.26906069,37.42899737,38.07066426,37.33224075,36.77386137,37.76668677,35.77778217,37.95780983,37.84065508,37.97738874,35.82346667,37.83397173,34.89782769,36.37750903,37.33359061,38.19748325,36.88119241,35.90025278,35.12882235,35.97457811,37.7636904,37.49189221,35.71626916,37.6504002,36.04898625,39.0451557,36.91495155,35.4442647,37.92270381,38.00182747,36.84149164,35.9389625,36.2321098,37.90601452,37.76304108,38.11045691,36.95696543,37.08831936,38.04345265,36.90818962,37.68546549,35.78392374,36.66579137,38.29572526,35.55077227,37.95194632,37.34573893,35.42933439,36.1891318,34.57402759,38.95246252,34.48718475,36.1704942,37.02715036,36.88214908,37.31770495,37.1280395,36.1553362,38.38195597,37.86921694,35.56543624,36.04620352,38.91874854,37.19936753,37.32981863,36.51734612,37.30596142,38.31564796,36.68836654,37.05261631,35.56917032,38.50588333,36.99529017,35.18912244,38.7756653,36.98504142,35.93804523,36.7290294,37.6269068,38.79123469,37.63731096,36.9539597,37.07437107,36.01231723,37.14209369,36.72527683,36.39368386,36.683393,37.86144726,36.45689841,37.23984661,39.67259096,37.02226899,38.42286529,38.40137369,36.61119878,35.63211222,36.30854529,36.35250277,37.02347924,36.08964366,39.24096484,37.18144731,37.30536188,36.83153585,36.97937237,35.90675637,37.64583879,35.45679815,35.63395395,36.48632507,37.80550943,37.68028761,37.68387537,37.64780806,36.83936583,36.80837606,37.72236711,36.32214092,35.7661535,34.7797505,37.03427958,36.86218335,37.42527868,36.83865679,35.26149812,37.21115258,36.92976156,38.40632901,37.67232248,34.64980005,36.36684325,37.48704925,36.67395274,36.59928909,36.37827101,38.86023443,36.16646339,37.0716432,36.29889308,38.68258378,36.16604163,36.87502581,38.1265198,35.76932963,35.53602453,36.07455114,37.19842782,36.8745436,36.35523488,36.53409567,36.0586476,38.18776368,37.13312676,37.68487728,36.81293413,37.83544773,35.53914243,37.96597162,36.4179848,37.19026771,38.33257633,36.84008573,35.77101619],\"z\":[587.951054,392.2049334,487.5475049,581.852344,599.406092,637.1024479,521.5721748,549.9041461,570.200409,427.1993849,492.6060127,522.3374046,408.6403511,573.4158673,470.4527333,461.7807422,457.8476959,407.7045475,452.3156755,605.0610388,534.7057438,419.9387748,436.5156057,519.3409891,700.9170916,423.1799917,619.8956399,486.8389348,529.5376653,554.7220838,497.5866713,447.6879065,588.7126055,491.0732237,507.4418323,521.8835732,347.7769266,490.7386321,478.1703341,537.8461953,532.7517876,501.8744303,591.1971782,547.2443434,448.2298292,549.8605905,593.915003,563.6728734,479.7319491,416.3583536,725.5848141,442.6672517,384.6265716,451.4574469,522.4041413,483.673308,520.8987945,453.1695024,496.6507081,547.3651406,616.851523,507.212569,613.5993234,483.1597208,540.2634004,765.5184619,553.6015347,469.3108615,408.6201878,451.5756852,444.9665517,595.8228367,418.1500811,534.7771881,578.2416051,478.7193569,444.2859075,544.7798637,488.7860611,475.7590678,489.812488,462.8976362,596.4301726,338.3198626,533.5149353,536.7718994,487.379306,473.7289665,547.1259317,505.1133435,449.0703194,611.0000251,515.8288149,439.0747667,514.0889577,543.3401663,521.1429518,614.7153338,507.3900618,495.2994425,518.064558,390.103273,420.7376732,492.1050524,410.0696111,497.5136833,494.5518611,378.3309069,570.4517259,549.0082269,459.2851235,492.9450531,424.7626355,422.4267759,642.1015787,413.3717831,479.2310929,593.0772413,506.5473071,571.3074949,576.3111774,576.8025474,514.2395207,495.1759504,514.3365583,541.226584,516.8315567,468.4457372,548.2803202,431.6177338,552.9403455,573.3062223,452.627255,542.7115581,407.8040306,482.3535703,529.2300901,433.0487691,476.1914133,439.9978799,448.9332932,472.9922467,463.923513,350.0582002,460.0612774,505.7711403,463.4849954,479.7319376,424.1854943,465.8893127,426.775216,684.163431,555.8925954,657.0199239,595.8038189,503.9783791,586.1558702,744.2218671,512.8253581,528.2238094,468.9135013,357.5914394,536.4231045,490.2066,550.0475806,513.4505712,497.81193,578.9862586,506.5363931,501.7492333,421.9667942,439.8912805,666.1255917,298.7620079,465.1766233,373.8857237,532.7174857,554.900783,537.7731625,501.1002452,517.1651356,557.5292736,493.719193,452.1226251,577.273455,485.9231305,425.745092,537.2150527,524.6379646,478.8853913,612.3852299,476.7667242,505.1196375,545.9454921,434.0216998,424.675281,352.5501082,662.9610878,560.5601606,467.5019004,504.8704324,590.5627196,443.9656268,392.4973992,568.7175759,712.3963268,413.2959992,562.0820454,412.0129313,468.6684656,496.5540816,548.5185293,536.1308969,558.4272572,357.8637186,529.0566632,387.3570727,528.9336186,420.9161595,496.9334463,519.3729768,591.4377356,502.4097853,604.3348401,555.0683941,256.6705823,547.1109824,461.9208769,458.3769107,436.2834981,532.9352188,512.5525344,630.4227632,463.7459811,493.1802162,501.2091727,501.9282649,376.3369008,421.3266313,538.7749335,398.1634685,571.4710341,451.6286105,490.6004425,591.7810894,409.0704721,563.4460357,647.6194557,448.340425,518.7864831,523.6339351,393.857371,426.1545477,503.3878873,482.6024673,524.7976276,574.6548434,574.7472197,660.4251843,375.3984554,640.18774,514.0098178,376.4968407,484.5198091,614.7296376,567.4750105,554.0030934,399.9838716,479.1728515,585.9318443,540.9957391,628.0478039,582.4919237,640.7861664,446.4186734,570.6300981,423.3083341,616.660286,530.3624689,442.3631174,511.97986,560.4437922,475.2634237,374.2696745,463.591418,471.6028844,626.0186727,432.4720613,356.6155679,467.4278485,503.2173931,378.4735664,584.2183135,451.7278633,557.634109,432.7207178,506.42386,510.1598173,587.5747995,282.4712457,473.9498574,489.9080531,541.9722038,266.0863409,494.6871558,689.7876042,387.5347163,441.8966315,604.8413188,302.1895478,479.6148117,506.1323424,319.9288698,528.309225,610.1280331,584.105885,466.4211988,404.8245289,564.790969,596.516698,368.6547849,542.4124767,478.2621264,473.3604956,559.199048,447.1876443,505.2300683,557.2526867,422.3687366,445.0621855,442.0644138,533.0400602,424.2028271,498.6355985,330.594446,443.4418601,478.6009159,440.0027475,357.7831107,476.1392469,501.1224915,592.6884532,486.0834255,576.0252441,442.7228916,461.7909591,488.3875258,593.1564015,392.810345,443.197221,535.4807752,533.3965538,532.1274491,558.9481124,508.7719067,403.7669021,640.5840619,461.6282784,382.4161079,561.8746577,444.5761441,401.0331352,384.3260571,527.7829958,482.1449969,594.2744834,502.0925279,407.6571788,708.9351849,531.9615505,521.2407802,447.3690272,385.152338,430.5888826,418.6027421,478.9514048,483.7965221,538.9419745,486.1637991,385.0950071,527.7837898,547.1907494,410.6029439,583.977802,474.5323294,414.9350607,550.8133677,458.7811317,407.542168,581.3089329,546.5566669,503.1750852,549.1315733,482.8309859,557.6082621,484.8769649,669.9871405,547.7099886,537.8252823,408.2169018,663.0748176,506.3758668,528.4193297,632.1235881,488.270298,508.735741,411.1869636,409.0945262,467.8009244,512.1658664,608.2718166,589.0264898,444.0538266,493.1812614,532.7248055,275.9184207,511.0387861,438.417742,475.7250679,483.5431939,663.8036933,544.4092722,630.1567282,461.1122484,491.9115051,574.4156896,530.7667187,581.7987977,556.2981412,502.1327892,556.1863689,475.0716299,486.9470538,434.144202,304.1355916,571.2160048,583.0796357,445.7498412,392.9922559,565.9943634,499.1401524,510.5394217,308.5277466,561.516532,423.4705332,513.1531119,529.1945189,314.4385183,478.584286,444.582165,475.0154071,436.7205559,521.1953105,478.1830597,432.4811686,438.3037078,388.9405488,534.7714849,537.9157529,407.8763782,618.8459704,502.7710746,397.4205841,392.2852442,689.2356998,543.1326263,577.7360249,436.5807403,553.9946736,427.3565308,424.7287739,541.049831,469.3831462,444.5455497,492.5568337,535.3216101,408.9583359,487.5554581,487.6462317,402.1671222,551.0230017,497.3895578,494.6386098,479.2474168,462.6565189,515.5024797,576.4776072,357.8579836,597.7398789,327.3779526,510.4013885,510.5014785,403.8195198,627.6033187,510.6617922,573.8474377,529.0490041,551.6201455,456.4695101,497.7786422],\"type\":\"scatter3d\"}],                        {\"template\":{\"data\":{\"histogram2dcontour\":[{\"type\":\"histogram2dcontour\",\"colorbar\":{\"outlinewidth\":0,\"ticks\":\"\"},\"colorscale\":[[0.0,\"#0d0887\"],[0.1111111111111111,\"#46039f\"],[0.2222222222222222,\"#7201a8\"],[0.3333333333333333,\"#9c179e\"],[0.4444444444444444,\"#bd3786\"],[0.5555555555555556,\"#d8576b\"],[0.6666666666666666,\"#ed7953\"],[0.7777777777777778,\"#fb9f3a\"],[0.8888888888888888,\"#fdca26\"],[1.0,\"#f0f921\"]]}],\"choropleth\":[{\"type\":\"choropleth\",\"colorbar\":{\"outlinewidth\":0,\"ticks\":\"\"}}],\"histogram2d\":[{\"type\":\"histogram2d\",\"colorbar\":{\"outlinewidth\":0,\"ticks\":\"\"},\"colorscale\":[[0.0,\"#0d0887\"],[0.1111111111111111,\"#46039f\"],[0.2222222222222222,\"#7201a8\"],[0.3333333333333333,\"#9c179e\"],[0.4444444444444444,\"#bd3786\"],[0.5555555555555556,\"#d8576b\"],[0.6666666666666666,\"#ed7953\"],[0.7777777777777778,\"#fb9f3a\"],[0.8888888888888888,\"#fdca26\"],[1.0,\"#f0f921\"]]}],\"heatmap\":[{\"type\":\"heatmap\",\"colorbar\":{\"outlinewidth\":0,\"ticks\":\"\"},\"colorscale\":[[0.0,\"#0d0887\"],[0.1111111111111111,\"#46039f\"],[0.2222222222222222,\"#7201a8\"],[0.3333333333333333,\"#9c179e\"],[0.4444444444444444,\"#bd3786\"],[0.5555555555555556,\"#d8576b\"],[0.6666666666666666,\"#ed7953\"],[0.7777777777777778,\"#fb9f3a\"],[0.8888888888888888,\"#fdca26\"],[1.0,\"#f0f921\"]]}],\"heatmapgl\":[{\"type\":\"heatmapgl\",\"colorbar\":{\"outlinewidth\":0,\"ticks\":\"\"},\"colorscale\":[[0.0,\"#0d0887\"],[0.1111111111111111,\"#46039f\"],[0.2222222222222222,\"#7201a8\"],[0.3333333333333333,\"#9c179e\"],[0.4444444444444444,\"#bd3786\"],[0.5555555555555556,\"#d8576b\"],[0.6666666666666666,\"#ed7953\"],[0.7777777777777778,\"#fb9f3a\"],[0.8888888888888888,\"#fdca26\"],[1.0,\"#f0f921\"]]}],\"contourcarpet\":[{\"type\":\"contourcarpet\",\"colorbar\":{\"outlinewidth\":0,\"ticks\":\"\"}}],\"contour\":[{\"type\":\"contour\",\"colorbar\":{\"outlinewidth\":0,\"ticks\":\"\"},\"colorscale\":[[0.0,\"#0d0887\"],[0.1111111111111111,\"#46039f\"],[0.2222222222222222,\"#7201a8\"],[0.3333333333333333,\"#9c179e\"],[0.4444444444444444,\"#bd3786\"],[0.5555555555555556,\"#d8576b\"],[0.6666666666666666,\"#ed7953\"],[0.7777777777777778,\"#fb9f3a\"],[0.8888888888888888,\"#fdca26\"],[1.0,\"#f0f921\"]]}],\"surface\":[{\"type\":\"surface\",\"colorbar\":{\"outlinewidth\":0,\"ticks\":\"\"},\"colorscale\":[[0.0,\"#0d0887\"],[0.1111111111111111,\"#46039f\"],[0.2222222222222222,\"#7201a8\"],[0.3333333333333333,\"#9c179e\"],[0.4444444444444444,\"#bd3786\"],[0.5555555555555556,\"#d8576b\"],[0.6666666666666666,\"#ed7953\"],[0.7777777777777778,\"#fb9f3a\"],[0.8888888888888888,\"#fdca26\"],[1.0,\"#f0f921\"]]}],\"mesh3d\":[{\"type\":\"mesh3d\",\"colorbar\":{\"outlinewidth\":0,\"ticks\":\"\"}}],\"scatter\":[{\"fillpattern\":{\"fillmode\":\"overlay\",\"size\":10,\"solidity\":0.2},\"type\":\"scatter\"}],\"parcoords\":[{\"type\":\"parcoords\",\"line\":{\"colorbar\":{\"outlinewidth\":0,\"ticks\":\"\"}}}],\"scatterpolargl\":[{\"type\":\"scatterpolargl\",\"marker\":{\"colorbar\":{\"outlinewidth\":0,\"ticks\":\"\"}}}],\"bar\":[{\"error_x\":{\"color\":\"#2a3f5f\"},\"error_y\":{\"color\":\"#2a3f5f\"},\"marker\":{\"line\":{\"color\":\"#E5ECF6\",\"width\":0.5},\"pattern\":{\"fillmode\":\"overlay\",\"size\":10,\"solidity\":0.2}},\"type\":\"bar\"}],\"scattergeo\":[{\"type\":\"scattergeo\",\"marker\":{\"colorbar\":{\"outlinewidth\":0,\"ticks\":\"\"}}}],\"scatterpolar\":[{\"type\":\"scatterpolar\",\"marker\":{\"colorbar\":{\"outlinewidth\":0,\"ticks\":\"\"}}}],\"histogram\":[{\"marker\":{\"pattern\":{\"fillmode\":\"overlay\",\"size\":10,\"solidity\":0.2}},\"type\":\"histogram\"}],\"scattergl\":[{\"type\":\"scattergl\",\"marker\":{\"colorbar\":{\"outlinewidth\":0,\"ticks\":\"\"}}}],\"scatter3d\":[{\"type\":\"scatter3d\",\"line\":{\"colorbar\":{\"outlinewidth\":0,\"ticks\":\"\"}},\"marker\":{\"colorbar\":{\"outlinewidth\":0,\"ticks\":\"\"}}}],\"scattermapbox\":[{\"type\":\"scattermapbox\",\"marker\":{\"colorbar\":{\"outlinewidth\":0,\"ticks\":\"\"}}}],\"scatterternary\":[{\"type\":\"scatterternary\",\"marker\":{\"colorbar\":{\"outlinewidth\":0,\"ticks\":\"\"}}}],\"scattercarpet\":[{\"type\":\"scattercarpet\",\"marker\":{\"colorbar\":{\"outlinewidth\":0,\"ticks\":\"\"}}}],\"carpet\":[{\"aaxis\":{\"endlinecolor\":\"#2a3f5f\",\"gridcolor\":\"white\",\"linecolor\":\"white\",\"minorgridcolor\":\"white\",\"startlinecolor\":\"#2a3f5f\"},\"baxis\":{\"endlinecolor\":\"#2a3f5f\",\"gridcolor\":\"white\",\"linecolor\":\"white\",\"minorgridcolor\":\"white\",\"startlinecolor\":\"#2a3f5f\"},\"type\":\"carpet\"}],\"table\":[{\"cells\":{\"fill\":{\"color\":\"#EBF0F8\"},\"line\":{\"color\":\"white\"}},\"header\":{\"fill\":{\"color\":\"#C8D4E3\"},\"line\":{\"color\":\"white\"}},\"type\":\"table\"}],\"barpolar\":[{\"marker\":{\"line\":{\"color\":\"#E5ECF6\",\"width\":0.5},\"pattern\":{\"fillmode\":\"overlay\",\"size\":10,\"solidity\":0.2}},\"type\":\"barpolar\"}],\"pie\":[{\"automargin\":true,\"type\":\"pie\"}]},\"layout\":{\"autotypenumbers\":\"strict\",\"colorway\":[\"#636efa\",\"#EF553B\",\"#00cc96\",\"#ab63fa\",\"#FFA15A\",\"#19d3f3\",\"#FF6692\",\"#B6E880\",\"#FF97FF\",\"#FECB52\"],\"font\":{\"color\":\"#2a3f5f\"},\"hovermode\":\"closest\",\"hoverlabel\":{\"align\":\"left\"},\"paper_bgcolor\":\"white\",\"plot_bgcolor\":\"#E5ECF6\",\"polar\":{\"bgcolor\":\"#E5ECF6\",\"angularaxis\":{\"gridcolor\":\"white\",\"linecolor\":\"white\",\"ticks\":\"\"},\"radialaxis\":{\"gridcolor\":\"white\",\"linecolor\":\"white\",\"ticks\":\"\"}},\"ternary\":{\"bgcolor\":\"#E5ECF6\",\"aaxis\":{\"gridcolor\":\"white\",\"linecolor\":\"white\",\"ticks\":\"\"},\"baxis\":{\"gridcolor\":\"white\",\"linecolor\":\"white\",\"ticks\":\"\"},\"caxis\":{\"gridcolor\":\"white\",\"linecolor\":\"white\",\"ticks\":\"\"}},\"coloraxis\":{\"colorbar\":{\"outlinewidth\":0,\"ticks\":\"\"}},\"colorscale\":{\"sequential\":[[0.0,\"#0d0887\"],[0.1111111111111111,\"#46039f\"],[0.2222222222222222,\"#7201a8\"],[0.3333333333333333,\"#9c179e\"],[0.4444444444444444,\"#bd3786\"],[0.5555555555555556,\"#d8576b\"],[0.6666666666666666,\"#ed7953\"],[0.7777777777777778,\"#fb9f3a\"],[0.8888888888888888,\"#fdca26\"],[1.0,\"#f0f921\"]],\"sequentialminus\":[[0.0,\"#0d0887\"],[0.1111111111111111,\"#46039f\"],[0.2222222222222222,\"#7201a8\"],[0.3333333333333333,\"#9c179e\"],[0.4444444444444444,\"#bd3786\"],[0.5555555555555556,\"#d8576b\"],[0.6666666666666666,\"#ed7953\"],[0.7777777777777778,\"#fb9f3a\"],[0.8888888888888888,\"#fdca26\"],[1.0,\"#f0f921\"]],\"diverging\":[[0,\"#8e0152\"],[0.1,\"#c51b7d\"],[0.2,\"#de77ae\"],[0.3,\"#f1b6da\"],[0.4,\"#fde0ef\"],[0.5,\"#f7f7f7\"],[0.6,\"#e6f5d0\"],[0.7,\"#b8e186\"],[0.8,\"#7fbc41\"],[0.9,\"#4d9221\"],[1,\"#276419\"]]},\"xaxis\":{\"gridcolor\":\"white\",\"linecolor\":\"white\",\"ticks\":\"\",\"title\":{\"standoff\":15},\"zerolinecolor\":\"white\",\"automargin\":true,\"zerolinewidth\":2},\"yaxis\":{\"gridcolor\":\"white\",\"linecolor\":\"white\",\"ticks\":\"\",\"title\":{\"standoff\":15},\"zerolinecolor\":\"white\",\"automargin\":true,\"zerolinewidth\":2},\"scene\":{\"xaxis\":{\"backgroundcolor\":\"#E5ECF6\",\"gridcolor\":\"white\",\"linecolor\":\"white\",\"showbackground\":true,\"ticks\":\"\",\"zerolinecolor\":\"white\",\"gridwidth\":2},\"yaxis\":{\"backgroundcolor\":\"#E5ECF6\",\"gridcolor\":\"white\",\"linecolor\":\"white\",\"showbackground\":true,\"ticks\":\"\",\"zerolinecolor\":\"white\",\"gridwidth\":2},\"zaxis\":{\"backgroundcolor\":\"#E5ECF6\",\"gridcolor\":\"white\",\"linecolor\":\"white\",\"showbackground\":true,\"ticks\":\"\",\"zerolinecolor\":\"white\",\"gridwidth\":2}},\"shapedefaults\":{\"line\":{\"color\":\"#2a3f5f\"}},\"annotationdefaults\":{\"arrowcolor\":\"#2a3f5f\",\"arrowhead\":0,\"arrowwidth\":1},\"geo\":{\"bgcolor\":\"white\",\"landcolor\":\"#E5ECF6\",\"subunitcolor\":\"white\",\"showland\":true,\"showlakes\":true,\"lakecolor\":\"white\"},\"title\":{\"x\":0.05},\"mapbox\":{\"style\":\"light\"}}},\"scene\":{\"domain\":{\"x\":[0.0,1.0],\"y\":[0.0,1.0]},\"xaxis\":{\"title\":{\"text\":\"Session Length on App\"}},\"yaxis\":{\"title\":{\"text\":\"Session Length on Website\"}},\"zaxis\":{\"title\":{\"text\":\"Yearly Expenditure\"}}},\"coloraxis\":{\"colorbar\":{\"title\":{\"text\":\"Cluster\"}},\"colorscale\":[[0.0,\"#0d0887\"],[0.1111111111111111,\"#46039f\"],[0.2222222222222222,\"#7201a8\"],[0.3333333333333333,\"#9c179e\"],[0.4444444444444444,\"#bd3786\"],[0.5555555555555556,\"#d8576b\"],[0.6666666666666666,\"#ed7953\"],[0.7777777777777778,\"#fb9f3a\"],[0.8888888888888888,\"#fdca26\"],[1.0,\"#f0f921\"]]},\"legend\":{\"tracegroupgap\":0,\"itemsizing\":\"constant\"},\"margin\":{\"t\":60}},                        {\"responsive\": true}                    ).then(function(){\n",
       "                            \n",
       "var gd = document.getElementById('d5427318-3036-4364-8c35-f11d77c1ff10');\n",
       "var x = new MutationObserver(function (mutations, observer) {{\n",
       "        var display = window.getComputedStyle(gd).display;\n",
       "        if (!display || display === 'none') {{\n",
       "            console.log([gd, 'removed!']);\n",
       "            Plotly.purge(gd);\n",
       "            observer.disconnect();\n",
       "        }}\n",
       "}});\n",
       "\n",
       "// Listen for the removal of the full notebook cells\n",
       "var notebookContainer = gd.closest('#notebook-container');\n",
       "if (notebookContainer) {{\n",
       "    x.observe(notebookContainer, {childList: true});\n",
       "}}\n",
       "\n",
       "// Listen for the clearing of the current output cell\n",
       "var outputEl = gd.closest('.output');\n",
       "if (outputEl) {{\n",
       "    x.observe(outputEl, {childList: true});\n",
       "}}\n",
       "\n",
       "                        })                };                });            </script>        </div>"
      ]
     },
     "metadata": {},
     "output_type": "display_data"
    }
   ],
   "source": [
    "fig = px.scatter_3d(data_with_clusters, x = 'Session Length on App', y='Session Length on Website', z='Yearly Expenditure',\n",
    "              color='Cluster', opacity = 0.8, size='Duration of Subscription in Years', size_max=30)\n",
    "fig.show()"
   ]
  },
  {
   "cell_type": "code",
   "execution_count": null,
   "id": "ae59664e",
   "metadata": {},
   "outputs": [],
   "source": []
  }
 ],
 "metadata": {
  "kernelspec": {
   "display_name": "Python 3 (ipykernel)",
   "language": "python",
   "name": "python3"
  },
  "language_info": {
   "codemirror_mode": {
    "name": "ipython",
    "version": 3
   },
   "file_extension": ".py",
   "mimetype": "text/x-python",
   "name": "python",
   "nbconvert_exporter": "python",
   "pygments_lexer": "ipython3",
   "version": "3.8.13"
  }
 },
 "nbformat": 4,
 "nbformat_minor": 5
}
